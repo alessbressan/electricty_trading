{
 "cells": [
  {
   "cell_type": "code",
   "execution_count": 3,
   "id": "initial_id",
   "metadata": {
    "collapsed": true,
    "ExecuteTime": {
     "end_time": "2025-03-20T21:50:49.162875500Z",
     "start_time": "2025-03-20T21:50:49.143829100Z"
    }
   },
   "outputs": [],
   "source": [
    "from keras.models import Sequential\n",
    "from keras.layers import LSTM, Dense, Dropout\n",
    "from keras_tuner import RandomSearch\n",
    "import matplotlib.pyplot as plt\n",
    "import numpy as np\n",
    "import os\n",
    "import pandas as pd\n",
    "import pickle\n",
    "import shutil\n",
    "from sklearn.metrics import mean_squared_error, r2_score\n",
    "from sklearn.model_selection import train_test_split\n",
    "from sklearn.preprocessing import MinMaxScaler"
   ]
  },
  {
   "cell_type": "code",
   "execution_count": 7,
   "outputs": [
    {
     "data": {
      "text/plain": "                     spike_30  past_spikes_30  wind_speed  precipitation  \\\ndate                                                                       \n2018-01-01 01:00:00         0             2.0    7.127636            0.0   \n2018-01-01 02:00:00         0             2.0    8.209263            0.0   \n2018-01-01 03:00:00         0             2.0    9.832680            0.0   \n2018-01-01 04:00:00         0             2.0    9.028754            0.0   \n2018-01-01 05:00:00         0             2.0    9.085988            0.0   \n...                       ...             ...         ...            ...   \n2021-12-31 19:00:00         0             0.0    8.854829            0.0   \n2021-12-31 20:00:00         0             0.0    8.225035            0.0   \n2021-12-31 21:00:00         0             0.0    7.993298            0.0   \n2021-12-31 22:00:00         0             0.0    8.049845            0.0   \n2021-12-31 23:00:00         0             0.0    7.594208            0.0   \n\n                           hdd  cdd  past_da_load_error  past_da_price_error  \\\ndate                                                                           \n2018-01-01 01:00:00  31.102500  0.0        1.527919e+06         10950.736579   \n2018-01-01 02:00:00  31.252500  0.0        1.514983e+06         10831.041829   \n2018-01-01 03:00:00  31.052501  0.0        1.513766e+06         10264.167962   \n2018-01-01 04:00:00  30.902500  0.0        1.521223e+06         10335.796294   \n2018-01-01 05:00:00  31.252500  0.0        1.535811e+06         10329.139457   \n...                        ...  ...                 ...                  ...   \n2021-12-31 19:00:00   7.552501  0.0        6.773428e+05          1400.551985   \n2021-12-31 20:00:00   8.102500  0.0        6.541598e+05           990.203456   \n2021-12-31 21:00:00   8.352500  0.0        6.266265e+05          1056.321235   \n2021-12-31 22:00:00   8.852500  0.0        5.769357e+05           942.430141   \n2021-12-31 23:00:00   9.352500  0.0        5.128953e+05           832.378949   \n\n                     month  hour  is_weekend  is_holiday  load_capacity_ratio  \ndate                                                                           \n2018-01-01 01:00:00      1     1           0           0             1.083770  \n2018-01-01 02:00:00      1     2           0           0             0.857405  \n2018-01-01 03:00:00      1     3           0           0             0.824815  \n2018-01-01 04:00:00      1     4           0           0             0.825660  \n2018-01-01 05:00:00      1     5           0           0             0.814085  \n...                    ...   ...         ...         ...                  ...  \n2021-12-31 19:00:00     12    19           0           0             0.968972  \n2021-12-31 20:00:00     12    20           0           0             0.934816  \n2021-12-31 21:00:00     12    21           0           0             0.784590  \n2021-12-31 22:00:00     12    22           0           0             0.902686  \n2021-12-31 23:00:00     12    23           0           0             0.920384  \n\n[34767 rows x 13 columns]",
      "text/html": "<div>\n<style scoped>\n    .dataframe tbody tr th:only-of-type {\n        vertical-align: middle;\n    }\n\n    .dataframe tbody tr th {\n        vertical-align: top;\n    }\n\n    .dataframe thead th {\n        text-align: right;\n    }\n</style>\n<table border=\"1\" class=\"dataframe\">\n  <thead>\n    <tr style=\"text-align: right;\">\n      <th></th>\n      <th>spike_30</th>\n      <th>past_spikes_30</th>\n      <th>wind_speed</th>\n      <th>precipitation</th>\n      <th>hdd</th>\n      <th>cdd</th>\n      <th>past_da_load_error</th>\n      <th>past_da_price_error</th>\n      <th>month</th>\n      <th>hour</th>\n      <th>is_weekend</th>\n      <th>is_holiday</th>\n      <th>load_capacity_ratio</th>\n    </tr>\n    <tr>\n      <th>date</th>\n      <th></th>\n      <th></th>\n      <th></th>\n      <th></th>\n      <th></th>\n      <th></th>\n      <th></th>\n      <th></th>\n      <th></th>\n      <th></th>\n      <th></th>\n      <th></th>\n      <th></th>\n    </tr>\n  </thead>\n  <tbody>\n    <tr>\n      <th>2018-01-01 01:00:00</th>\n      <td>0</td>\n      <td>2.0</td>\n      <td>7.127636</td>\n      <td>0.0</td>\n      <td>31.102500</td>\n      <td>0.0</td>\n      <td>1.527919e+06</td>\n      <td>10950.736579</td>\n      <td>1</td>\n      <td>1</td>\n      <td>0</td>\n      <td>0</td>\n      <td>1.083770</td>\n    </tr>\n    <tr>\n      <th>2018-01-01 02:00:00</th>\n      <td>0</td>\n      <td>2.0</td>\n      <td>8.209263</td>\n      <td>0.0</td>\n      <td>31.252500</td>\n      <td>0.0</td>\n      <td>1.514983e+06</td>\n      <td>10831.041829</td>\n      <td>1</td>\n      <td>2</td>\n      <td>0</td>\n      <td>0</td>\n      <td>0.857405</td>\n    </tr>\n    <tr>\n      <th>2018-01-01 03:00:00</th>\n      <td>0</td>\n      <td>2.0</td>\n      <td>9.832680</td>\n      <td>0.0</td>\n      <td>31.052501</td>\n      <td>0.0</td>\n      <td>1.513766e+06</td>\n      <td>10264.167962</td>\n      <td>1</td>\n      <td>3</td>\n      <td>0</td>\n      <td>0</td>\n      <td>0.824815</td>\n    </tr>\n    <tr>\n      <th>2018-01-01 04:00:00</th>\n      <td>0</td>\n      <td>2.0</td>\n      <td>9.028754</td>\n      <td>0.0</td>\n      <td>30.902500</td>\n      <td>0.0</td>\n      <td>1.521223e+06</td>\n      <td>10335.796294</td>\n      <td>1</td>\n      <td>4</td>\n      <td>0</td>\n      <td>0</td>\n      <td>0.825660</td>\n    </tr>\n    <tr>\n      <th>2018-01-01 05:00:00</th>\n      <td>0</td>\n      <td>2.0</td>\n      <td>9.085988</td>\n      <td>0.0</td>\n      <td>31.252500</td>\n      <td>0.0</td>\n      <td>1.535811e+06</td>\n      <td>10329.139457</td>\n      <td>1</td>\n      <td>5</td>\n      <td>0</td>\n      <td>0</td>\n      <td>0.814085</td>\n    </tr>\n    <tr>\n      <th>...</th>\n      <td>...</td>\n      <td>...</td>\n      <td>...</td>\n      <td>...</td>\n      <td>...</td>\n      <td>...</td>\n      <td>...</td>\n      <td>...</td>\n      <td>...</td>\n      <td>...</td>\n      <td>...</td>\n      <td>...</td>\n      <td>...</td>\n    </tr>\n    <tr>\n      <th>2021-12-31 19:00:00</th>\n      <td>0</td>\n      <td>0.0</td>\n      <td>8.854829</td>\n      <td>0.0</td>\n      <td>7.552501</td>\n      <td>0.0</td>\n      <td>6.773428e+05</td>\n      <td>1400.551985</td>\n      <td>12</td>\n      <td>19</td>\n      <td>0</td>\n      <td>0</td>\n      <td>0.968972</td>\n    </tr>\n    <tr>\n      <th>2021-12-31 20:00:00</th>\n      <td>0</td>\n      <td>0.0</td>\n      <td>8.225035</td>\n      <td>0.0</td>\n      <td>8.102500</td>\n      <td>0.0</td>\n      <td>6.541598e+05</td>\n      <td>990.203456</td>\n      <td>12</td>\n      <td>20</td>\n      <td>0</td>\n      <td>0</td>\n      <td>0.934816</td>\n    </tr>\n    <tr>\n      <th>2021-12-31 21:00:00</th>\n      <td>0</td>\n      <td>0.0</td>\n      <td>7.993298</td>\n      <td>0.0</td>\n      <td>8.352500</td>\n      <td>0.0</td>\n      <td>6.266265e+05</td>\n      <td>1056.321235</td>\n      <td>12</td>\n      <td>21</td>\n      <td>0</td>\n      <td>0</td>\n      <td>0.784590</td>\n    </tr>\n    <tr>\n      <th>2021-12-31 22:00:00</th>\n      <td>0</td>\n      <td>0.0</td>\n      <td>8.049845</td>\n      <td>0.0</td>\n      <td>8.852500</td>\n      <td>0.0</td>\n      <td>5.769357e+05</td>\n      <td>942.430141</td>\n      <td>12</td>\n      <td>22</td>\n      <td>0</td>\n      <td>0</td>\n      <td>0.902686</td>\n    </tr>\n    <tr>\n      <th>2021-12-31 23:00:00</th>\n      <td>0</td>\n      <td>0.0</td>\n      <td>7.594208</td>\n      <td>0.0</td>\n      <td>9.352500</td>\n      <td>0.0</td>\n      <td>5.128953e+05</td>\n      <td>832.378949</td>\n      <td>12</td>\n      <td>23</td>\n      <td>0</td>\n      <td>0</td>\n      <td>0.920384</td>\n    </tr>\n  </tbody>\n</table>\n<p>34767 rows × 13 columns</p>\n</div>"
     },
     "execution_count": 7,
     "metadata": {},
     "output_type": "execute_result"
    }
   ],
   "source": [
    "# Load dataset\n",
    "root = '../data/'\n",
    "path = 'ml_features_subset.csv'\n",
    "df = pd.read_csv(os.path.join(root,path))\n",
    "df[\"date\"] = pd.to_datetime(df[\"date\"])\n",
    "df.set_index('date', inplace=True)\n",
    "df.dropna(inplace=True)\n",
    "df"
   ],
   "metadata": {
    "collapsed": false,
    "ExecuteTime": {
     "end_time": "2025-03-20T21:52:19.986351100Z",
     "start_time": "2025-03-20T21:52:19.877167500Z"
    }
   },
   "id": "f5bb0f9f23848abb"
  },
  {
   "cell_type": "code",
   "execution_count": 42,
   "outputs": [],
   "source": [
    "target_col = 'spike_30'\n",
    "feature_cols = ['past_spikes_30', 'wind_speed', 'precipitation', 'hdd', \n",
    "                'cdd', 'past_da_load_error', 'past_da_price_error', 'month', \n",
    "                'hour', 'is_weekend', 'is_holiday', 'load_capacity_ratio']\n",
    "sequence_len = 48\n",
    "\n",
    "# Create a shifted dataset so that we forecast 48h-ahead\n",
    "X = []\n",
    "y = []\n",
    "\n",
    "for i in range(len(df) - sequence_len):\n",
    "    X_temp = df[feature_cols].iloc[i:i + sequence_len].values\n",
    "    y_temp = df[target_col].iloc[i + sequence_len]\n",
    "    \n",
    "    X.append(X_temp)\n",
    "    y.append(y_temp)\n",
    "\n",
    "X = np.array(X)\n",
    "y = np.array(y)"
   ],
   "metadata": {
    "collapsed": false,
    "ExecuteTime": {
     "end_time": "2025-03-21T23:24:17.397161200Z",
     "start_time": "2025-03-21T23:23:38.546280500Z"
    }
   },
   "id": "da62c61cb633a33b"
  },
  {
   "cell_type": "code",
   "execution_count": 43,
   "outputs": [],
   "source": [
    "def lstm_model(dataset, feature_cols, target_col, train_size, sequence_len=48, lstm_units=50, dropout=0.2, dense_units=25, epochs=30, batch_size=32):\n",
    "\n",
    "    \n",
    "    def build_lstm_model(sequence_length, feature_count):\n",
    "        model = Sequential([\n",
    "            LSTM(lstm_units, activation='relu', return_sequences=True, input_shape=(sequence_length, feature_count)),\n",
    "            Dropout(dropout),\n",
    "            LSTM(lstm_units, activation='relu', return_sequences=False),\n",
    "            Dropout(dropout),\n",
    "            Dense(dense_units),\n",
    "            Dense(1, activation='sigmoid')\n",
    "        ])\n",
    "        model.compile(optimizer='adam', loss='binary_crossentropy', metrics=['accuracy'])\n",
    "        return model\n",
    "    \n",
    "    def create_sequences(features, target, sequence_len):\n",
    "        X, y = [], []\n",
    "        for i in range(len(features) - sequence_len):\n",
    "            X.append(features[i:i+sequence_len])\n",
    "            y.append(target[i+sequence_len])\n",
    "        return np.array(X), np.array(y)\n",
    "    \n",
    "    X_data = dataset[feature_cols].values\n",
    "    y_data = dataset[target_col].values\n",
    "    \n",
    "    # Normalize the data\n",
    "    scaler = MinMaxScaler(feature_range=(0, 1))\n",
    "    features_scaled = scaler.fit_transform(X_data)\n",
    "\n",
    "    X, y = create_sequences(features_scaled, y_data, sequence_len)\n",
    "    X_train, X_test = X[:train_size], X[train_size:]\n",
    "    y_train, y_test = y[:train_size], y[train_size:]\n",
    "\n",
    "    # Define the LSTM model\n",
    "    feature_count = len(feature_cols)\n",
    "    model = build_lstm_model(sequence_len, feature_count)\n",
    "\n",
    "    # Fit the model\n",
    "    print('Fitting the model:')\n",
    "    history = model.fit(X_train, y_train, epochs=epochs, batch_size=batch_size, validation_data=(X_test, y_test), verbose=1)\n",
    "\n",
    "    return model, history, X_train, X_test, y_train, y_test"
   ],
   "metadata": {
    "collapsed": false,
    "ExecuteTime": {
     "end_time": "2025-03-21T23:26:49.429248800Z",
     "start_time": "2025-03-21T23:26:49.398454600Z"
    }
   },
   "id": "6634787cf50587ce"
  },
  {
   "cell_type": "code",
   "execution_count": 45,
   "outputs": [
    {
     "name": "stderr",
     "output_type": "stream",
     "text": [
      "C:\\Users\\vlari\\PycharmProjects\\electricty_trading\\venv\\lib\\site-packages\\keras\\src\\layers\\rnn\\rnn.py:200: UserWarning: Do not pass an `input_shape`/`input_dim` argument to a layer. When using Sequential models, prefer using an `Input(shape)` object as the first layer in the model instead.\n",
      "  super().__init__(**kwargs)\n"
     ]
    },
    {
     "name": "stdout",
     "output_type": "stream",
     "text": [
      "Fitting the model:\n",
      "Epoch 1/30\n",
      "\u001B[1m820/820\u001B[0m \u001B[32m━━━━━━━━━━━━━━━━━━━━\u001B[0m\u001B[37m\u001B[0m \u001B[1m18s\u001B[0m 20ms/step - accuracy: 0.9382 - loss: 0.2564 - val_accuracy: 0.9061 - val_loss: 0.2982\n",
      "Epoch 2/30\n",
      "\u001B[1m820/820\u001B[0m \u001B[32m━━━━━━━━━━━━━━━━━━━━\u001B[0m\u001B[37m\u001B[0m \u001B[1m16s\u001B[0m 19ms/step - accuracy: 0.9491 - loss: 0.1873 - val_accuracy: 0.9061 - val_loss: 0.2846\n",
      "Epoch 3/30\n",
      "\u001B[1m820/820\u001B[0m \u001B[32m━━━━━━━━━━━━━━━━━━━━\u001B[0m\u001B[37m\u001B[0m \u001B[1m16s\u001B[0m 20ms/step - accuracy: 0.9473 - loss: 85.7615 - val_accuracy: 0.9061 - val_loss: 0.2849\n",
      "Epoch 4/30\n",
      "\u001B[1m820/820\u001B[0m \u001B[32m━━━━━━━━━━━━━━━━━━━━\u001B[0m\u001B[37m\u001B[0m \u001B[1m16s\u001B[0m 19ms/step - accuracy: 0.9445 - loss: 0.3553 - val_accuracy: 0.9061 - val_loss: 0.2946\n",
      "Epoch 5/30\n",
      "\u001B[1m820/820\u001B[0m \u001B[32m━━━━━━━━━━━━━━━━━━━━\u001B[0m\u001B[37m\u001B[0m \u001B[1m15s\u001B[0m 19ms/step - accuracy: 0.9474 - loss: 0.1898 - val_accuracy: 0.9061 - val_loss: 0.2931\n",
      "Epoch 6/30\n",
      "\u001B[1m820/820\u001B[0m \u001B[32m━━━━━━━━━━━━━━━━━━━━\u001B[0m\u001B[37m\u001B[0m \u001B[1m16s\u001B[0m 19ms/step - accuracy: 0.9485 - loss: 0.1949 - val_accuracy: 0.9061 - val_loss: 0.2959\n",
      "Epoch 7/30\n",
      "\u001B[1m820/820\u001B[0m \u001B[32m━━━━━━━━━━━━━━━━━━━━\u001B[0m\u001B[37m\u001B[0m \u001B[1m16s\u001B[0m 19ms/step - accuracy: 0.9480 - loss: 0.1915 - val_accuracy: 0.9061 - val_loss: 0.2947\n",
      "Epoch 8/30\n",
      "\u001B[1m820/820\u001B[0m \u001B[32m━━━━━━━━━━━━━━━━━━━━\u001B[0m\u001B[37m\u001B[0m \u001B[1m16s\u001B[0m 19ms/step - accuracy: 0.9485 - loss: 0.1873 - val_accuracy: 0.9061 - val_loss: 0.2935\n",
      "Epoch 9/30\n",
      "\u001B[1m820/820\u001B[0m \u001B[32m━━━━━━━━━━━━━━━━━━━━\u001B[0m\u001B[37m\u001B[0m \u001B[1m16s\u001B[0m 19ms/step - accuracy: 0.9490 - loss: 0.1865 - val_accuracy: 0.9061 - val_loss: 0.2931\n",
      "Epoch 10/30\n",
      "\u001B[1m820/820\u001B[0m \u001B[32m━━━━━━━━━━━━━━━━━━━━\u001B[0m\u001B[37m\u001B[0m \u001B[1m16s\u001B[0m 19ms/step - accuracy: 0.9444 - loss: 0.1954 - val_accuracy: 0.9061 - val_loss: 0.3007\n",
      "Epoch 11/30\n",
      "\u001B[1m820/820\u001B[0m \u001B[32m━━━━━━━━━━━━━━━━━━━━\u001B[0m\u001B[37m\u001B[0m \u001B[1m16s\u001B[0m 20ms/step - accuracy: 0.9463 - loss: 0.2775 - val_accuracy: 0.9061 - val_loss: 0.3115\n",
      "Epoch 12/30\n",
      "\u001B[1m820/820\u001B[0m \u001B[32m━━━━━━━━━━━━━━━━━━━━\u001B[0m\u001B[37m\u001B[0m \u001B[1m16s\u001B[0m 20ms/step - accuracy: 0.9477 - loss: 0.1955 - val_accuracy: 0.9061 - val_loss: 0.3019\n",
      "Epoch 13/30\n",
      "\u001B[1m820/820\u001B[0m \u001B[32m━━━━━━━━━━━━━━━━━━━━\u001B[0m\u001B[37m\u001B[0m \u001B[1m16s\u001B[0m 19ms/step - accuracy: 0.9437 - loss: 0.2029 - val_accuracy: 0.9061 - val_loss: 0.3027\n",
      "Epoch 14/30\n",
      "\u001B[1m820/820\u001B[0m \u001B[32m━━━━━━━━━━━━━━━━━━━━\u001B[0m\u001B[37m\u001B[0m \u001B[1m16s\u001B[0m 19ms/step - accuracy: 0.9460 - loss: 0.1979 - val_accuracy: 0.9061 - val_loss: 0.2979\n",
      "Epoch 15/30\n",
      "\u001B[1m820/820\u001B[0m \u001B[32m━━━━━━━━━━━━━━━━━━━━\u001B[0m\u001B[37m\u001B[0m \u001B[1m16s\u001B[0m 19ms/step - accuracy: 0.9470 - loss: 0.1936 - val_accuracy: 0.9061 - val_loss: 0.3018\n",
      "Epoch 16/30\n",
      "\u001B[1m820/820\u001B[0m \u001B[32m━━━━━━━━━━━━━━━━━━━━\u001B[0m\u001B[37m\u001B[0m \u001B[1m16s\u001B[0m 19ms/step - accuracy: 0.9462 - loss: 0.1912 - val_accuracy: 0.9061 - val_loss: 0.2899\n",
      "Epoch 17/30\n",
      "\u001B[1m820/820\u001B[0m \u001B[32m━━━━━━━━━━━━━━━━━━━━\u001B[0m\u001B[37m\u001B[0m \u001B[1m16s\u001B[0m 19ms/step - accuracy: 0.9448 - loss: 0.1947 - val_accuracy: 0.9061 - val_loss: 0.2939\n",
      "Epoch 18/30\n",
      "\u001B[1m820/820\u001B[0m \u001B[32m━━━━━━━━━━━━━━━━━━━━\u001B[0m\u001B[37m\u001B[0m \u001B[1m16s\u001B[0m 20ms/step - accuracy: 0.9471 - loss: 0.1856 - val_accuracy: 0.9061 - val_loss: 0.2855\n",
      "Epoch 19/30\n",
      "\u001B[1m820/820\u001B[0m \u001B[32m━━━━━━━━━━━━━━━━━━━━\u001B[0m\u001B[37m\u001B[0m \u001B[1m16s\u001B[0m 20ms/step - accuracy: 0.9465 - loss: 0.1863 - val_accuracy: 0.9061 - val_loss: 0.2914\n",
      "Epoch 20/30\n",
      "\u001B[1m820/820\u001B[0m \u001B[32m━━━━━━━━━━━━━━━━━━━━\u001B[0m\u001B[37m\u001B[0m \u001B[1m16s\u001B[0m 20ms/step - accuracy: 0.9501 - loss: 0.1781 - val_accuracy: 0.9061 - val_loss: 0.3022\n",
      "Epoch 21/30\n",
      "\u001B[1m820/820\u001B[0m \u001B[32m━━━━━━━━━━━━━━━━━━━━\u001B[0m\u001B[37m\u001B[0m \u001B[1m17s\u001B[0m 20ms/step - accuracy: 0.9465 - loss: 0.1824 - val_accuracy: 0.9061 - val_loss: 0.2868\n",
      "Epoch 22/30\n",
      "\u001B[1m820/820\u001B[0m \u001B[32m━━━━━━━━━━━━━━━━━━━━\u001B[0m\u001B[37m\u001B[0m \u001B[1m16s\u001B[0m 20ms/step - accuracy: 0.9448 - loss: 22039.6074 - val_accuracy: 0.9061 - val_loss: 0.2956\n",
      "Epoch 23/30\n",
      "\u001B[1m820/820\u001B[0m \u001B[32m━━━━━━━━━━━━━━━━━━━━\u001B[0m\u001B[37m\u001B[0m \u001B[1m16s\u001B[0m 19ms/step - accuracy: 0.9487 - loss: 0.1873 - val_accuracy: 0.9061 - val_loss: 0.2959\n",
      "Epoch 24/30\n",
      "\u001B[1m820/820\u001B[0m \u001B[32m━━━━━━━━━━━━━━━━━━━━\u001B[0m\u001B[37m\u001B[0m \u001B[1m16s\u001B[0m 20ms/step - accuracy: 0.9460 - loss: 0.1930 - val_accuracy: 0.9049 - val_loss: 0.2861\n",
      "Epoch 25/30\n",
      "\u001B[1m820/820\u001B[0m \u001B[32m━━━━━━━━━━━━━━━━━━━━\u001B[0m\u001B[37m\u001B[0m \u001B[1m16s\u001B[0m 20ms/step - accuracy: 0.9489 - loss: 0.1824 - val_accuracy: 0.9056 - val_loss: 0.2870\n",
      "Epoch 26/30\n",
      "\u001B[1m820/820\u001B[0m \u001B[32m━━━━━━━━━━━━━━━━━━━━\u001B[0m\u001B[37m\u001B[0m \u001B[1m16s\u001B[0m 20ms/step - accuracy: 0.9474 - loss: 0.1848 - val_accuracy: 0.9050 - val_loss: 0.2875\n",
      "Epoch 27/30\n",
      "\u001B[1m820/820\u001B[0m \u001B[32m━━━━━━━━━━━━━━━━━━━━\u001B[0m\u001B[37m\u001B[0m \u001B[1m16s\u001B[0m 19ms/step - accuracy: 0.9429 - loss: 0.1945 - val_accuracy: 0.9049 - val_loss: 0.2939\n",
      "Epoch 28/30\n",
      "\u001B[1m820/820\u001B[0m \u001B[32m━━━━━━━━━━━━━━━━━━━━\u001B[0m\u001B[37m\u001B[0m \u001B[1m16s\u001B[0m 20ms/step - accuracy: 0.9471 - loss: 0.1844 - val_accuracy: 0.9048 - val_loss: 0.3062\n",
      "Epoch 29/30\n",
      "\u001B[1m820/820\u001B[0m \u001B[32m━━━━━━━━━━━━━━━━━━━━\u001B[0m\u001B[37m\u001B[0m \u001B[1m15s\u001B[0m 19ms/step - accuracy: 0.9455 - loss: 0.1866 - val_accuracy: 0.9043 - val_loss: 0.2957\n",
      "Epoch 30/30\n",
      "\u001B[1m820/820\u001B[0m \u001B[32m━━━━━━━━━━━━━━━━━━━━\u001B[0m\u001B[37m\u001B[0m \u001B[1m16s\u001B[0m 19ms/step - accuracy: 0.9484 - loss: 0.1772 - val_accuracy: 0.9059 - val_loss: 0.3168\n"
     ]
    }
   ],
   "source": [
    "# Build LSTM model for first split (train 2018-2020, test 2021)\n",
    "train_size = 26225\n",
    "model_1, history_1, X_train_1, X_test_1, y_train_1, y_test_1 = lstm_model(dataset=df,\n",
    "                                                                          feature_cols=feature_cols,\n",
    "                                                                          target_col=target_col,\n",
    "                                                                          train_size=train_size, \n",
    "                                                                          sequence_len=48,\n",
    "                                                                          lstm_units=50, \n",
    "                                                                          dropout=0.2, \n",
    "                                                                          dense_units=25,\n",
    "                                                                          epochs=30, \n",
    "                                                                          batch_size=32)"
   ],
   "metadata": {
    "collapsed": false,
    "ExecuteTime": {
     "end_time": "2025-03-21T23:35:24.898583900Z",
     "start_time": "2025-03-21T23:27:23.831162100Z"
    }
   },
   "id": "ef5856b153bbc0cd"
  },
  {
   "cell_type": "code",
   "execution_count": 46,
   "outputs": [
    {
     "name": "stdout",
     "output_type": "stream",
     "text": [
      "\u001B[1m266/266\u001B[0m \u001B[32m━━━━━━━━━━━━━━━━━━━━\u001B[0m\u001B[37m\u001B[0m \u001B[1m3s\u001B[0m 9ms/step\n"
     ]
    },
    {
     "data": {
      "text/plain": "array([0.018347  , 0.01194804, 0.00891124, ..., 0.03527138, 0.02523109,\n       0.01778989], dtype=float32)"
     },
     "execution_count": 46,
     "metadata": {},
     "output_type": "execute_result"
    }
   ],
   "source": [
    "y_pred_prob = model_1.predict(X_test_1).ravel()\n",
    "y_pred_prob"
   ],
   "metadata": {
    "collapsed": false,
    "ExecuteTime": {
     "end_time": "2025-03-22T01:14:33.945710200Z",
     "start_time": "2025-03-22T01:14:30.918453200Z"
    }
   },
   "id": "1c9fb3664422c17f"
  },
  {
   "cell_type": "code",
   "execution_count": 47,
   "outputs": [
    {
     "data": {
      "text/plain": "<Figure size 800x600 with 1 Axes>",
      "image/png": "[encoded data removed]"
     },
     "metadata": {},
     "output_type": "display_data"
    }
   ],
   "source": [
    "from sklearn.metrics import roc_auc_score, roc_curve\n",
    "\n",
    "# Compute AUC\n",
    "auc = roc_auc_score(y_test_1, y_pred_prob)\n",
    "\n",
    "# Plot ROC Curve\n",
    "fpr, tpr, _ = roc_curve(y_test_1, y_pred_prob)\n",
    "plt.figure(figsize=(8, 6))\n",
    "plt.plot(fpr, tpr, label=f\"AUC = {auc:.4f}\", color=\"blue\")\n",
    "plt.plot([0, 1], [0, 1], linestyle=\"--\", color=\"grey\")\n",
    "plt.xlabel(\"False Positive Rate\")\n",
    "plt.ylabel(\"True Positive Rate\")\n",
    "plt.title(\"ROC Curve\")\n",
    "plt.legend()\n",
    "plt.show()"
   ],
   "metadata": {
    "collapsed": false,
    "ExecuteTime": {
     "end_time": "2025-03-22T01:16:06.469886100Z",
     "start_time": "2025-03-22T01:16:06.225823200Z"
    }
   },
   "id": "505b11de0e806081"
  },
  {
   "cell_type": "code",
   "execution_count": 48,
   "outputs": [
    {
     "name": "stdout",
     "output_type": "stream",
     "text": [
      "Average Log-Likelihood: -0.31683784890159994\n"
     ]
    }
   ],
   "source": [
    "# Average Log-Likelihood\n",
    "p = np.clip(y_pred_prob, 1e-9, 1 - 1e-9)\n",
    "\n",
    "log_lik_i = y_test_1 * np.log(p) + (1 - y_test_1) * np.log(1 - p)\n",
    "avg_log_likelihood = np.mean(log_lik_i)\n",
    "\n",
    "print(\"Average Log-Likelihood:\", avg_log_likelihood)"
   ],
   "metadata": {
    "collapsed": false,
    "ExecuteTime": {
     "end_time": "2025-03-22T01:17:43.488673100Z",
     "start_time": "2025-03-22T01:17:43.413285400Z"
    }
   },
   "id": "e1a90706dc8b3cd1"
  },
  {
   "cell_type": "code",
   "execution_count": null,
   "outputs": [],
   "source": [],
   "metadata": {
    "collapsed": false
   },
   "id": "ed0a697d18372669"
  }
 ],
 "metadata": {
  "kernelspec": {
   "display_name": "Python 3",
   "language": "python",
   "name": "python3"
  },
  "language_info": {
   "codemirror_mode": {
    "name": "ipython",
    "version": 2
   },
   "file_extension": ".py",
   "mimetype": "text/x-python",
   "name": "python",
   "nbconvert_exporter": "python",
   "pygments_lexer": "ipython2",
   "version": "2.7.6"
  }
 },
 "nbformat": 4,
 "nbformat_minor": 5
}
