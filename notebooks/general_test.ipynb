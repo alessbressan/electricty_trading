{
 "cells": [
  {
   "cell_type": "code",
   "execution_count": 16,
   "metadata": {},
   "outputs": [],
   "source": [
    "import matplotlib.pyplot as plt\n",
    "import pandas as pd\n",
    "import numpy as np\n",
    "import os\n",
    "from sklearn.compose import ColumnTransformer\n",
    "from sklearn.preprocessing import StandardScaler, MinMaxScaler, FunctionTransformer\n",
    "from sklearn.pipeline import Pipeline"
   ]
  },
  {
   "cell_type": "code",
   "execution_count": 17,
   "metadata": {},
   "outputs": [
    {
     "data": {
      "text/plain": [
       "Index(['date', 'spike_30', 'past_spikes_30', 'wind_speed', 'precipitation',\n",
       "       'hdd', 'cdd', 'past_da_load_error', 'past_da_price_error', 'month',\n",
       "       'hour', 'is_weekend', 'is_holiday', 'load_capacity_ratio'],\n",
       "      dtype='object')"
      ]
     },
     "execution_count": 17,
     "metadata": {},
     "output_type": "execute_result"
    }
   ],
   "source": [
    "df = pd.read_csv('../data/ml_features_subset.csv')\n",
    "df.columns"
   ]
  },
  {
   "cell_type": "code",
   "execution_count": 18,
   "metadata": {},
   "outputs": [],
   "source": [
    "df.set_index('date', inplace= True)"
   ]
  },
  {
   "cell_type": "code",
   "execution_count": 19,
   "metadata": {},
   "outputs": [],
   "source": [
    "gaussian = ['wind_speed']\n",
    "uniform = ['hour', 'month']\n",
    "skewed = ['hdd', 'cdd', 'past_spikes_30', 'precipitation', 'load_capacity_ratio', 'past_da_load_error', 'past_da_price_error']"
   ]
  },
  {
   "cell_type": "code",
   "execution_count": 20,
   "metadata": {},
   "outputs": [],
   "source": [
    "# Create transformers\n",
    "gaussian_transformer = StandardScaler()\n",
    "uniform_transformer = MinMaxScaler()\n",
    "skewed_transformer = Pipeline(steps=[\n",
    "    ('log', FunctionTransformer(np.log1p)),\n",
    "    ('scaler', StandardScaler())\n",
    "])"
   ]
  },
  {
   "cell_type": "code",
   "execution_count": 21,
   "metadata": {},
   "outputs": [],
   "source": [
    "preprocessor = ColumnTransformer(transformers=[\n",
    "    ('gaussian', gaussian_transformer, gaussian),\n",
    "    ('uniform', uniform_transformer, uniform),\n",
    "    ('skewed', skewed_transformer, skewed)\n",
    "])\n"
   ]
  },
  {
   "cell_type": "code",
   "execution_count": 22,
   "metadata": {},
   "outputs": [],
   "source": [
    "transformed_data = preprocessor.fit_transform(df)\n",
    "\n",
    "# Convert back to DataFrame with original column names\n",
    "transformed_df = pd.DataFrame(\n",
    "    transformed_data,\n",
    "    columns=gaussian + uniform + skewed\n",
    ")"
   ]
  },
  {
   "cell_type": "code",
   "execution_count": 23,
   "metadata": {},
   "outputs": [],
   "source": [
    "df['past_da_load_error'] = np.log1p(df['past_da_load_error'])\n",
    "df['past_da_price_error'] = np.log1p(df['past_da_price_error'])\n",
    "df['hdd'] = np.log1p(df['hdd'])\n",
    "df['cdd'] = np.log1p(df['cdd'])\n"
   ]
  },
  {
   "cell_type": "code",
   "execution_count": 24,
   "metadata": {},
   "outputs": [
    {
     "data": {
      "application/vnd.microsoft.datawrangler.viewer.v0+json": {
       "columns": [
        {
         "name": "index",
         "rawType": "object",
         "type": "string"
        },
        {
         "name": "spike_30",
         "rawType": "float64",
         "type": "float"
        },
        {
         "name": "past_spikes_30",
         "rawType": "float64",
         "type": "float"
        },
        {
         "name": "wind_speed",
         "rawType": "float64",
         "type": "float"
        },
        {
         "name": "precipitation",
         "rawType": "float64",
         "type": "float"
        },
        {
         "name": "hdd",
         "rawType": "float64",
         "type": "float"
        },
        {
         "name": "cdd",
         "rawType": "float64",
         "type": "float"
        },
        {
         "name": "past_da_load_error",
         "rawType": "float64",
         "type": "float"
        },
        {
         "name": "past_da_price_error",
         "rawType": "float64",
         "type": "float"
        },
        {
         "name": "month",
         "rawType": "float64",
         "type": "float"
        },
        {
         "name": "hour",
         "rawType": "float64",
         "type": "float"
        },
        {
         "name": "is_weekend",
         "rawType": "float64",
         "type": "float"
        },
        {
         "name": "is_holiday",
         "rawType": "float64",
         "type": "float"
        },
        {
         "name": "load_capacity_ratio",
         "rawType": "float64",
         "type": "float"
        }
       ],
       "conversionMethod": "pd.DataFrame",
       "ref": "df5accc9-5cf0-4c08-a963-155341371158",
       "rows": [
        [
         "count",
         "34674.0",
         "34674.0",
         "34674.0",
         "34674.0",
         "34674.0",
         "34674.0",
         "34674.0",
         "34674.0",
         "34674.0",
         "34674.0",
         "34674.0",
         "34674.0",
         "34674.0"
        ],
        [
         "mean",
         "0.07117725096614178",
         "1.7093787852569648",
         "12.31628606021313",
         "0.1510872700005768",
         "1.558590841402633",
         "0.5313166416009082",
         "13.568690768841664",
         "8.91374638924242",
         "6.556814904539424",
         "11.501413162600219",
         "0.28401684259099036",
         "0.0013266424410220915",
         "0.9979162247393373"
        ],
        [
         "std",
         "0.2571243990993886",
         "2.956868002175092",
         "6.997228525435612",
         "1.410741002835302",
         "1.2355232047552216",
         "0.843886817429562",
         "1.2930639192022408",
         "1.5213871111074515",
         "3.4524451420785844",
         "6.921857077863498",
         "0.45095137270703545",
         "0.03639945977124177",
         "0.2766479001451181"
        ],
        [
         "min",
         "0.0",
         "0.0",
         "0.0",
         "0.0",
         "0.0",
         "0.0",
         "8.981787551553843",
         "5.2084400268366355",
         "1.0",
         "0.0",
         "0.0",
         "0.0",
         "0.0012253742610852"
        ],
        [
         "25%",
         "0.0",
         "0.0",
         "6.87779",
         "0.0",
         "0.0",
         "0.0",
         "12.648926728866698",
         "7.8478130993626944",
         "4.0",
         "6.0",
         "0.0",
         "0.0",
         "0.8001307604603806"
        ],
        [
         "50%",
         "0.0",
         "1.0",
         "11.113451",
         "0.0",
         "1.9533822396200118",
         "0.0",
         "13.489315738701135",
         "8.719528738355429",
         "7.0",
         "12.0",
         "0.0",
         "0.0",
         "0.9116879452089282"
        ],
        [
         "75%",
         "0.0",
         "2.0",
         "16.62249",
         "0.0",
         "2.7082168767659005",
         "1.1931645593355207",
         "14.419465233096636",
         "9.77942445630208",
         "10.0",
         "18.0",
         "1.0",
         "0.0",
         "1.1330282936368508"
        ],
        [
         "max",
         "1.0",
         "24.0",
         "52.21117",
         "63.4",
         "3.56960309934524",
         "2.959975545934739",
         "17.496723924050535",
         "15.712578340495364",
         "12.0",
         "23.0",
         "1.0",
         "1.0",
         "6.55510262574183"
        ]
       ],
       "shape": {
        "columns": 13,
        "rows": 8
       }
      },
      "text/html": [
       "<div>\n",
       "<style scoped>\n",
       "    .dataframe tbody tr th:only-of-type {\n",
       "        vertical-align: middle;\n",
       "    }\n",
       "\n",
       "    .dataframe tbody tr th {\n",
       "        vertical-align: top;\n",
       "    }\n",
       "\n",
       "    .dataframe thead th {\n",
       "        text-align: right;\n",
       "    }\n",
       "</style>\n",
       "<table border=\"1\" class=\"dataframe\">\n",
       "  <thead>\n",
       "    <tr style=\"text-align: right;\">\n",
       "      <th></th>\n",
       "      <th>spike_30</th>\n",
       "      <th>past_spikes_30</th>\n",
       "      <th>wind_speed</th>\n",
       "      <th>precipitation</th>\n",
       "      <th>hdd</th>\n",
       "      <th>cdd</th>\n",
       "      <th>past_da_load_error</th>\n",
       "      <th>past_da_price_error</th>\n",
       "      <th>month</th>\n",
       "      <th>hour</th>\n",
       "      <th>is_weekend</th>\n",
       "      <th>is_holiday</th>\n",
       "      <th>load_capacity_ratio</th>\n",
       "    </tr>\n",
       "  </thead>\n",
       "  <tbody>\n",
       "    <tr>\n",
       "      <th>count</th>\n",
       "      <td>34674.000000</td>\n",
       "      <td>34674.000000</td>\n",
       "      <td>34674.000000</td>\n",
       "      <td>34674.000000</td>\n",
       "      <td>34674.000000</td>\n",
       "      <td>34674.000000</td>\n",
       "      <td>34674.000000</td>\n",
       "      <td>34674.000000</td>\n",
       "      <td>34674.000000</td>\n",
       "      <td>34674.000000</td>\n",
       "      <td>34674.000000</td>\n",
       "      <td>34674.000000</td>\n",
       "      <td>34674.000000</td>\n",
       "    </tr>\n",
       "    <tr>\n",
       "      <th>mean</th>\n",
       "      <td>0.071177</td>\n",
       "      <td>1.709379</td>\n",
       "      <td>12.316286</td>\n",
       "      <td>0.151087</td>\n",
       "      <td>1.558591</td>\n",
       "      <td>0.531317</td>\n",
       "      <td>13.568691</td>\n",
       "      <td>8.913746</td>\n",
       "      <td>6.556815</td>\n",
       "      <td>11.501413</td>\n",
       "      <td>0.284017</td>\n",
       "      <td>0.001327</td>\n",
       "      <td>0.997916</td>\n",
       "    </tr>\n",
       "    <tr>\n",
       "      <th>std</th>\n",
       "      <td>0.257124</td>\n",
       "      <td>2.956868</td>\n",
       "      <td>6.997229</td>\n",
       "      <td>1.410741</td>\n",
       "      <td>1.235523</td>\n",
       "      <td>0.843887</td>\n",
       "      <td>1.293064</td>\n",
       "      <td>1.521387</td>\n",
       "      <td>3.452445</td>\n",
       "      <td>6.921857</td>\n",
       "      <td>0.450951</td>\n",
       "      <td>0.036399</td>\n",
       "      <td>0.276648</td>\n",
       "    </tr>\n",
       "    <tr>\n",
       "      <th>min</th>\n",
       "      <td>0.000000</td>\n",
       "      <td>0.000000</td>\n",
       "      <td>0.000000</td>\n",
       "      <td>0.000000</td>\n",
       "      <td>0.000000</td>\n",
       "      <td>0.000000</td>\n",
       "      <td>8.981788</td>\n",
       "      <td>5.208440</td>\n",
       "      <td>1.000000</td>\n",
       "      <td>0.000000</td>\n",
       "      <td>0.000000</td>\n",
       "      <td>0.000000</td>\n",
       "      <td>0.001225</td>\n",
       "    </tr>\n",
       "    <tr>\n",
       "      <th>25%</th>\n",
       "      <td>0.000000</td>\n",
       "      <td>0.000000</td>\n",
       "      <td>6.877790</td>\n",
       "      <td>0.000000</td>\n",
       "      <td>0.000000</td>\n",
       "      <td>0.000000</td>\n",
       "      <td>12.648927</td>\n",
       "      <td>7.847813</td>\n",
       "      <td>4.000000</td>\n",
       "      <td>6.000000</td>\n",
       "      <td>0.000000</td>\n",
       "      <td>0.000000</td>\n",
       "      <td>0.800131</td>\n",
       "    </tr>\n",
       "    <tr>\n",
       "      <th>50%</th>\n",
       "      <td>0.000000</td>\n",
       "      <td>1.000000</td>\n",
       "      <td>11.113451</td>\n",
       "      <td>0.000000</td>\n",
       "      <td>1.953382</td>\n",
       "      <td>0.000000</td>\n",
       "      <td>13.489316</td>\n",
       "      <td>8.719529</td>\n",
       "      <td>7.000000</td>\n",
       "      <td>12.000000</td>\n",
       "      <td>0.000000</td>\n",
       "      <td>0.000000</td>\n",
       "      <td>0.911688</td>\n",
       "    </tr>\n",
       "    <tr>\n",
       "      <th>75%</th>\n",
       "      <td>0.000000</td>\n",
       "      <td>2.000000</td>\n",
       "      <td>16.622490</td>\n",
       "      <td>0.000000</td>\n",
       "      <td>2.708217</td>\n",
       "      <td>1.193165</td>\n",
       "      <td>14.419465</td>\n",
       "      <td>9.779424</td>\n",
       "      <td>10.000000</td>\n",
       "      <td>18.000000</td>\n",
       "      <td>1.000000</td>\n",
       "      <td>0.000000</td>\n",
       "      <td>1.133028</td>\n",
       "    </tr>\n",
       "    <tr>\n",
       "      <th>max</th>\n",
       "      <td>1.000000</td>\n",
       "      <td>24.000000</td>\n",
       "      <td>52.211170</td>\n",
       "      <td>63.400000</td>\n",
       "      <td>3.569603</td>\n",
       "      <td>2.959976</td>\n",
       "      <td>17.496724</td>\n",
       "      <td>15.712578</td>\n",
       "      <td>12.000000</td>\n",
       "      <td>23.000000</td>\n",
       "      <td>1.000000</td>\n",
       "      <td>1.000000</td>\n",
       "      <td>6.555103</td>\n",
       "    </tr>\n",
       "  </tbody>\n",
       "</table>\n",
       "</div>"
      ],
      "text/plain": [
       "           spike_30  past_spikes_30    wind_speed  precipitation  \\\n",
       "count  34674.000000    34674.000000  34674.000000   34674.000000   \n",
       "mean       0.071177        1.709379     12.316286       0.151087   \n",
       "std        0.257124        2.956868      6.997229       1.410741   \n",
       "min        0.000000        0.000000      0.000000       0.000000   \n",
       "25%        0.000000        0.000000      6.877790       0.000000   \n",
       "50%        0.000000        1.000000     11.113451       0.000000   \n",
       "75%        0.000000        2.000000     16.622490       0.000000   \n",
       "max        1.000000       24.000000     52.211170      63.400000   \n",
       "\n",
       "                hdd           cdd  past_da_load_error  past_da_price_error  \\\n",
       "count  34674.000000  34674.000000        34674.000000         34674.000000   \n",
       "mean       1.558591      0.531317           13.568691             8.913746   \n",
       "std        1.235523      0.843887            1.293064             1.521387   \n",
       "min        0.000000      0.000000            8.981788             5.208440   \n",
       "25%        0.000000      0.000000           12.648927             7.847813   \n",
       "50%        1.953382      0.000000           13.489316             8.719529   \n",
       "75%        2.708217      1.193165           14.419465             9.779424   \n",
       "max        3.569603      2.959976           17.496724            15.712578   \n",
       "\n",
       "              month          hour    is_weekend    is_holiday  \\\n",
       "count  34674.000000  34674.000000  34674.000000  34674.000000   \n",
       "mean       6.556815     11.501413      0.284017      0.001327   \n",
       "std        3.452445      6.921857      0.450951      0.036399   \n",
       "min        1.000000      0.000000      0.000000      0.000000   \n",
       "25%        4.000000      6.000000      0.000000      0.000000   \n",
       "50%        7.000000     12.000000      0.000000      0.000000   \n",
       "75%       10.000000     18.000000      1.000000      0.000000   \n",
       "max       12.000000     23.000000      1.000000      1.000000   \n",
       "\n",
       "       load_capacity_ratio  \n",
       "count         34674.000000  \n",
       "mean              0.997916  \n",
       "std               0.276648  \n",
       "min               0.001225  \n",
       "25%               0.800131  \n",
       "50%               0.911688  \n",
       "75%               1.133028  \n",
       "max               6.555103  "
      ]
     },
     "execution_count": 24,
     "metadata": {},
     "output_type": "execute_result"
    }
   ],
   "source": [
    "df.describe()"
   ]
  },
  {
   "cell_type": "code",
   "execution_count": 25,
   "metadata": {},
   "outputs": [
    {
     "data": {
      "application/vnd.microsoft.datawrangler.viewer.v0+json": {
       "columns": [
        {
         "name": "index",
         "rawType": "object",
         "type": "string"
        },
        {
         "name": "wind_speed",
         "rawType": "float64",
         "type": "float"
        },
        {
         "name": "hour",
         "rawType": "float64",
         "type": "float"
        },
        {
         "name": "month",
         "rawType": "float64",
         "type": "float"
        },
        {
         "name": "hdd",
         "rawType": "float64",
         "type": "float"
        },
        {
         "name": "cdd",
         "rawType": "float64",
         "type": "float"
        },
        {
         "name": "past_spikes_30",
         "rawType": "float64",
         "type": "float"
        },
        {
         "name": "precipitation",
         "rawType": "float64",
         "type": "float"
        },
        {
         "name": "load_capacity_ratio",
         "rawType": "float64",
         "type": "float"
        },
        {
         "name": "past_da_load_error",
         "rawType": "float64",
         "type": "float"
        },
        {
         "name": "past_da_price_error",
         "rawType": "float64",
         "type": "float"
        }
       ],
       "conversionMethod": "pd.DataFrame",
       "ref": "a31c5afa-cb39-45da-b5df-c0fd7f3f84ff",
       "rows": [
        [
         "count",
         "34674.0",
         "34674.0",
         "34674.0",
         "34674.0",
         "34674.0",
         "34674.0",
         "34674.0",
         "34674.0",
         "34674.0",
         "34674.0"
        ],
        [
         "mean",
         "-3.3115217770903904e-16",
         "0.5000614418521835",
         "0.5051649913217657",
         "5.24597509242042e-17",
         "-1.9672406596576575e-16",
         "5.901721978972972e-17",
         "-6.59845304593506e-17",
         "6.000084011955855e-16",
         "1.2918213665085284e-15",
         "6.623043554180781e-16"
        ],
        [
         "std",
         "1.0000144203384462",
         "0.3009503077331956",
         "0.31385864927987134",
         "1.000014420338446",
         "1.000014420338446",
         "1.000014420338446",
         "1.0000144203384458",
         "1.0000144203384462",
         "1.000014420338446",
         "1.0000144203384462"
        ],
        [
         "min",
         "-1.7601917131125506",
         "0.0",
         "0.0",
         "-1.2615006426519146",
         "-0.6296155981972678",
         "-0.8393276327970861",
         "-0.20096523211787332",
         "-5.267163760759325",
         "-3.5473647465274385",
         "-2.4355141220306264"
        ],
        [
         "25%",
         "-0.7772469436144902",
         "0.2608695652173913",
         "0.2727272727272727",
         "-1.2615006426519146",
         "-0.6296155981972678",
         "-0.8393276327970861",
         "-0.20096523211787332",
         "-0.7374394197063929",
         "-0.7113161922043044",
         "-0.7006426262035294"
        ],
        [
         "50%",
         "-0.17190411905646746",
         "0.5217391304347826",
         "0.5454545454545454",
         "0.31953838642890786",
         "-0.6296155981972678",
         "0.06680767099710258",
         "-0.20096523211787332",
         "-0.2731640573761914",
         "-0.06138611833226239",
         "-0.12766011369050717"
        ],
        [
         "75%",
         "0.6154245243029292",
         "0.7826086956521738",
         "0.8181818181818182",
         "0.9304905071269364",
         "0.7842964816319463",
         "0.5968628442962759",
         "-0.20096523211787332",
         "0.5727780511032873",
         "0.6579618532976954",
         "0.5690139900029891"
        ],
        [
         "max",
         "5.701608728726186",
         "1.0",
         "0.9999999999999999",
         "1.627683923442302",
         "2.8779853841240044",
         "3.368634406500958",
         "15.106878658647068",
         "10.338061461841692",
         "3.0378156411632316",
         "4.468902058570502"
        ]
       ],
       "shape": {
        "columns": 10,
        "rows": 8
       }
      },
      "text/html": [
       "<div>\n",
       "<style scoped>\n",
       "    .dataframe tbody tr th:only-of-type {\n",
       "        vertical-align: middle;\n",
       "    }\n",
       "\n",
       "    .dataframe tbody tr th {\n",
       "        vertical-align: top;\n",
       "    }\n",
       "\n",
       "    .dataframe thead th {\n",
       "        text-align: right;\n",
       "    }\n",
       "</style>\n",
       "<table border=\"1\" class=\"dataframe\">\n",
       "  <thead>\n",
       "    <tr style=\"text-align: right;\">\n",
       "      <th></th>\n",
       "      <th>wind_speed</th>\n",
       "      <th>hour</th>\n",
       "      <th>month</th>\n",
       "      <th>hdd</th>\n",
       "      <th>cdd</th>\n",
       "      <th>past_spikes_30</th>\n",
       "      <th>precipitation</th>\n",
       "      <th>load_capacity_ratio</th>\n",
       "      <th>past_da_load_error</th>\n",
       "      <th>past_da_price_error</th>\n",
       "    </tr>\n",
       "  </thead>\n",
       "  <tbody>\n",
       "    <tr>\n",
       "      <th>count</th>\n",
       "      <td>3.467400e+04</td>\n",
       "      <td>34674.000000</td>\n",
       "      <td>34674.000000</td>\n",
       "      <td>3.467400e+04</td>\n",
       "      <td>3.467400e+04</td>\n",
       "      <td>3.467400e+04</td>\n",
       "      <td>3.467400e+04</td>\n",
       "      <td>3.467400e+04</td>\n",
       "      <td>3.467400e+04</td>\n",
       "      <td>3.467400e+04</td>\n",
       "    </tr>\n",
       "    <tr>\n",
       "      <th>mean</th>\n",
       "      <td>-3.311522e-16</td>\n",
       "      <td>0.500061</td>\n",
       "      <td>0.505165</td>\n",
       "      <td>5.245975e-17</td>\n",
       "      <td>-1.967241e-16</td>\n",
       "      <td>5.901722e-17</td>\n",
       "      <td>-6.598453e-17</td>\n",
       "      <td>6.000084e-16</td>\n",
       "      <td>1.291821e-15</td>\n",
       "      <td>6.623044e-16</td>\n",
       "    </tr>\n",
       "    <tr>\n",
       "      <th>std</th>\n",
       "      <td>1.000014e+00</td>\n",
       "      <td>0.300950</td>\n",
       "      <td>0.313859</td>\n",
       "      <td>1.000014e+00</td>\n",
       "      <td>1.000014e+00</td>\n",
       "      <td>1.000014e+00</td>\n",
       "      <td>1.000014e+00</td>\n",
       "      <td>1.000014e+00</td>\n",
       "      <td>1.000014e+00</td>\n",
       "      <td>1.000014e+00</td>\n",
       "    </tr>\n",
       "    <tr>\n",
       "      <th>min</th>\n",
       "      <td>-1.760192e+00</td>\n",
       "      <td>0.000000</td>\n",
       "      <td>0.000000</td>\n",
       "      <td>-1.261501e+00</td>\n",
       "      <td>-6.296156e-01</td>\n",
       "      <td>-8.393276e-01</td>\n",
       "      <td>-2.009652e-01</td>\n",
       "      <td>-5.267164e+00</td>\n",
       "      <td>-3.547365e+00</td>\n",
       "      <td>-2.435514e+00</td>\n",
       "    </tr>\n",
       "    <tr>\n",
       "      <th>25%</th>\n",
       "      <td>-7.772469e-01</td>\n",
       "      <td>0.260870</td>\n",
       "      <td>0.272727</td>\n",
       "      <td>-1.261501e+00</td>\n",
       "      <td>-6.296156e-01</td>\n",
       "      <td>-8.393276e-01</td>\n",
       "      <td>-2.009652e-01</td>\n",
       "      <td>-7.374394e-01</td>\n",
       "      <td>-7.113162e-01</td>\n",
       "      <td>-7.006426e-01</td>\n",
       "    </tr>\n",
       "    <tr>\n",
       "      <th>50%</th>\n",
       "      <td>-1.719041e-01</td>\n",
       "      <td>0.521739</td>\n",
       "      <td>0.545455</td>\n",
       "      <td>3.195384e-01</td>\n",
       "      <td>-6.296156e-01</td>\n",
       "      <td>6.680767e-02</td>\n",
       "      <td>-2.009652e-01</td>\n",
       "      <td>-2.731641e-01</td>\n",
       "      <td>-6.138612e-02</td>\n",
       "      <td>-1.276601e-01</td>\n",
       "    </tr>\n",
       "    <tr>\n",
       "      <th>75%</th>\n",
       "      <td>6.154245e-01</td>\n",
       "      <td>0.782609</td>\n",
       "      <td>0.818182</td>\n",
       "      <td>9.304905e-01</td>\n",
       "      <td>7.842965e-01</td>\n",
       "      <td>5.968628e-01</td>\n",
       "      <td>-2.009652e-01</td>\n",
       "      <td>5.727781e-01</td>\n",
       "      <td>6.579619e-01</td>\n",
       "      <td>5.690140e-01</td>\n",
       "    </tr>\n",
       "    <tr>\n",
       "      <th>max</th>\n",
       "      <td>5.701609e+00</td>\n",
       "      <td>1.000000</td>\n",
       "      <td>1.000000</td>\n",
       "      <td>1.627684e+00</td>\n",
       "      <td>2.877985e+00</td>\n",
       "      <td>3.368634e+00</td>\n",
       "      <td>1.510688e+01</td>\n",
       "      <td>1.033806e+01</td>\n",
       "      <td>3.037816e+00</td>\n",
       "      <td>4.468902e+00</td>\n",
       "    </tr>\n",
       "  </tbody>\n",
       "</table>\n",
       "</div>"
      ],
      "text/plain": [
       "         wind_speed          hour         month           hdd           cdd  \\\n",
       "count  3.467400e+04  34674.000000  34674.000000  3.467400e+04  3.467400e+04   \n",
       "mean  -3.311522e-16      0.500061      0.505165  5.245975e-17 -1.967241e-16   \n",
       "std    1.000014e+00      0.300950      0.313859  1.000014e+00  1.000014e+00   \n",
       "min   -1.760192e+00      0.000000      0.000000 -1.261501e+00 -6.296156e-01   \n",
       "25%   -7.772469e-01      0.260870      0.272727 -1.261501e+00 -6.296156e-01   \n",
       "50%   -1.719041e-01      0.521739      0.545455  3.195384e-01 -6.296156e-01   \n",
       "75%    6.154245e-01      0.782609      0.818182  9.304905e-01  7.842965e-01   \n",
       "max    5.701609e+00      1.000000      1.000000  1.627684e+00  2.877985e+00   \n",
       "\n",
       "       past_spikes_30  precipitation  load_capacity_ratio  past_da_load_error  \\\n",
       "count    3.467400e+04   3.467400e+04         3.467400e+04        3.467400e+04   \n",
       "mean     5.901722e-17  -6.598453e-17         6.000084e-16        1.291821e-15   \n",
       "std      1.000014e+00   1.000014e+00         1.000014e+00        1.000014e+00   \n",
       "min     -8.393276e-01  -2.009652e-01        -5.267164e+00       -3.547365e+00   \n",
       "25%     -8.393276e-01  -2.009652e-01        -7.374394e-01       -7.113162e-01   \n",
       "50%      6.680767e-02  -2.009652e-01        -2.731641e-01       -6.138612e-02   \n",
       "75%      5.968628e-01  -2.009652e-01         5.727781e-01        6.579619e-01   \n",
       "max      3.368634e+00   1.510688e+01         1.033806e+01        3.037816e+00   \n",
       "\n",
       "       past_da_price_error  \n",
       "count         3.467400e+04  \n",
       "mean          6.623044e-16  \n",
       "std           1.000014e+00  \n",
       "min          -2.435514e+00  \n",
       "25%          -7.006426e-01  \n",
       "50%          -1.276601e-01  \n",
       "75%           5.690140e-01  \n",
       "max           4.468902e+00  "
      ]
     },
     "execution_count": 25,
     "metadata": {},
     "output_type": "execute_result"
    }
   ],
   "source": [
    "transformed_df.describe()"
   ]
  },
  {
   "cell_type": "code",
   "execution_count": 28,
   "metadata": {},
   "outputs": [
    {
     "data": {
      "image/png": "[encoded data removed]",
      "text/plain": [
       "<Figure size 640x480 with 1 Axes>"
      ]
     },
     "metadata": {},
     "output_type": "display_data"
    },
    {
     "data": {
      "image/png": "[encoded data removed]",
      "text/plain": [
       "<Figure size 640x480 with 1 Axes>"
      ]
     },
     "metadata": {},
     "output_type": "display_data"
    },
    {
     "data": {
      "image/png": "[encoded data removed]",
      "text/plain": [
       "<Figure size 640x480 with 1 Axes>"
      ]
     },
     "metadata": {},
     "output_type": "display_data"
    },
    {
     "data": {
      "image/png": "[encoded data removed]",
      "text/plain": [
       "<Figure size 640x480 with 1 Axes>"
      ]
     },
     "metadata": {},
     "output_type": "display_data"
    },
    {
     "data": {
      "image/png": "[encoded data removed]",
      "text/plain": [
       "<Figure size 640x480 with 1 Axes>"
      ]
     },
     "metadata": {},
     "output_type": "display_data"
    },
    {
     "data": {
      "image/png": "[encoded data removed]",
      "text/plain": [
       "<Figure size 640x480 with 1 Axes>"
      ]
     },
     "metadata": {},
     "output_type": "display_data"
    },
    {
     "data": {
      "image/png": "[encoded data removed]",
      "text/plain": [
       "<Figure size 640x480 with 1 Axes>"
      ]
     },
     "metadata": {},
     "output_type": "display_data"
    },
    {
     "data": {
      "image/png": "[encoded data removed]",
      "text/plain": [
       "<Figure size 640x480 with 1 Axes>"
      ]
     },
     "metadata": {},
     "output_type": "display_data"
    },
    {
     "data": {
      "image/png": "[encoded data removed]",
      "text/plain": [
       "<Figure size 640x480 with 1 Axes>"
      ]
     },
     "metadata": {},
     "output_type": "display_data"
    },
    {
     "data": {
      "image/png": "[encoded data removed]",
      "text/plain": [
       "<Figure size 640x480 with 1 Axes>"
      ]
     },
     "metadata": {},
     "output_type": "display_data"
    }
   ],
   "source": [
    "for col in transformed_df.columns:\n",
    "    plt.hist(transformed_df[col], bins= 50)\n",
    "    plt.title(col)\n",
    "    plt.show()"
   ]
  },
  {
   "cell_type": "code",
   "execution_count": 27,
   "metadata": {},
   "outputs": [
    {
     "ename": "KeyError",
     "evalue": "'da_prices'",
     "output_type": "error",
     "traceback": [
      "\u001b[1;31m---------------------------------------------------------------------------\u001b[0m",
      "\u001b[1;31mKeyError\u001b[0m                                  Traceback (most recent call last)",
      "File \u001b[1;32mc:\\Users\\alebr\\AppData\\Local\\Programs\\Python\\Python312\\Lib\\site-packages\\pandas\\core\\indexes\\base.py:3805\u001b[0m, in \u001b[0;36mIndex.get_loc\u001b[1;34m(self, key)\u001b[0m\n\u001b[0;32m   3804\u001b[0m \u001b[38;5;28;01mtry\u001b[39;00m:\n\u001b[1;32m-> 3805\u001b[0m     \u001b[38;5;28;01mreturn\u001b[39;00m \u001b[38;5;28;43mself\u001b[39;49m\u001b[38;5;241;43m.\u001b[39;49m\u001b[43m_engine\u001b[49m\u001b[38;5;241;43m.\u001b[39;49m\u001b[43mget_loc\u001b[49m\u001b[43m(\u001b[49m\u001b[43mcasted_key\u001b[49m\u001b[43m)\u001b[49m\n\u001b[0;32m   3806\u001b[0m \u001b[38;5;28;01mexcept\u001b[39;00m \u001b[38;5;167;01mKeyError\u001b[39;00m \u001b[38;5;28;01mas\u001b[39;00m err:\n",
      "File \u001b[1;32mindex.pyx:167\u001b[0m, in \u001b[0;36mpandas._libs.index.IndexEngine.get_loc\u001b[1;34m()\u001b[0m\n",
      "File \u001b[1;32mindex.pyx:196\u001b[0m, in \u001b[0;36mpandas._libs.index.IndexEngine.get_loc\u001b[1;34m()\u001b[0m\n",
      "File \u001b[1;32mpandas\\\\_libs\\\\hashtable_class_helper.pxi:7081\u001b[0m, in \u001b[0;36mpandas._libs.hashtable.PyObjectHashTable.get_item\u001b[1;34m()\u001b[0m\n",
      "File \u001b[1;32mpandas\\\\_libs\\\\hashtable_class_helper.pxi:7089\u001b[0m, in \u001b[0;36mpandas._libs.hashtable.PyObjectHashTable.get_item\u001b[1;34m()\u001b[0m\n",
      "\u001b[1;31mKeyError\u001b[0m: 'da_prices'",
      "\nThe above exception was the direct cause of the following exception:\n",
      "\u001b[1;31mKeyError\u001b[0m                                  Traceback (most recent call last)",
      "Cell \u001b[1;32mIn[27], line 2\u001b[0m\n\u001b[0;32m      1\u001b[0m idx \u001b[38;5;241m=\u001b[39m df[\u001b[38;5;124m'\u001b[39m\u001b[38;5;124mload_capacity_ratio\u001b[39m\u001b[38;5;124m'\u001b[39m]\u001b[38;5;241m.\u001b[39margmax()\n\u001b[1;32m----> 2\u001b[0m \u001b[38;5;28mprint\u001b[39m(\u001b[43mdf\u001b[49m\u001b[43m[\u001b[49m\u001b[38;5;124;43m'\u001b[39;49m\u001b[38;5;124;43mda_prices\u001b[39;49m\u001b[38;5;124;43m'\u001b[39;49m\u001b[43m]\u001b[49m\u001b[38;5;241m.\u001b[39mshift(\u001b[38;5;241m24\u001b[39m)\u001b[38;5;241m.\u001b[39miloc[idx])\n\u001b[0;32m      3\u001b[0m \u001b[38;5;28mprint\u001b[39m(df[\u001b[38;5;124m'\u001b[39m\u001b[38;5;124mda_prices\u001b[39m\u001b[38;5;124m'\u001b[39m]\u001b[38;5;241m.\u001b[39miloc[idx\u001b[38;5;241m-\u001b[39m\u001b[38;5;241m24\u001b[39m])\n",
      "File \u001b[1;32mc:\\Users\\alebr\\AppData\\Local\\Programs\\Python\\Python312\\Lib\\site-packages\\pandas\\core\\frame.py:4102\u001b[0m, in \u001b[0;36mDataFrame.__getitem__\u001b[1;34m(self, key)\u001b[0m\n\u001b[0;32m   4100\u001b[0m \u001b[38;5;28;01mif\u001b[39;00m \u001b[38;5;28mself\u001b[39m\u001b[38;5;241m.\u001b[39mcolumns\u001b[38;5;241m.\u001b[39mnlevels \u001b[38;5;241m>\u001b[39m \u001b[38;5;241m1\u001b[39m:\n\u001b[0;32m   4101\u001b[0m     \u001b[38;5;28;01mreturn\u001b[39;00m \u001b[38;5;28mself\u001b[39m\u001b[38;5;241m.\u001b[39m_getitem_multilevel(key)\n\u001b[1;32m-> 4102\u001b[0m indexer \u001b[38;5;241m=\u001b[39m \u001b[38;5;28;43mself\u001b[39;49m\u001b[38;5;241;43m.\u001b[39;49m\u001b[43mcolumns\u001b[49m\u001b[38;5;241;43m.\u001b[39;49m\u001b[43mget_loc\u001b[49m\u001b[43m(\u001b[49m\u001b[43mkey\u001b[49m\u001b[43m)\u001b[49m\n\u001b[0;32m   4103\u001b[0m \u001b[38;5;28;01mif\u001b[39;00m is_integer(indexer):\n\u001b[0;32m   4104\u001b[0m     indexer \u001b[38;5;241m=\u001b[39m [indexer]\n",
      "File \u001b[1;32mc:\\Users\\alebr\\AppData\\Local\\Programs\\Python\\Python312\\Lib\\site-packages\\pandas\\core\\indexes\\base.py:3812\u001b[0m, in \u001b[0;36mIndex.get_loc\u001b[1;34m(self, key)\u001b[0m\n\u001b[0;32m   3807\u001b[0m     \u001b[38;5;28;01mif\u001b[39;00m \u001b[38;5;28misinstance\u001b[39m(casted_key, \u001b[38;5;28mslice\u001b[39m) \u001b[38;5;129;01mor\u001b[39;00m (\n\u001b[0;32m   3808\u001b[0m         \u001b[38;5;28misinstance\u001b[39m(casted_key, abc\u001b[38;5;241m.\u001b[39mIterable)\n\u001b[0;32m   3809\u001b[0m         \u001b[38;5;129;01mand\u001b[39;00m \u001b[38;5;28many\u001b[39m(\u001b[38;5;28misinstance\u001b[39m(x, \u001b[38;5;28mslice\u001b[39m) \u001b[38;5;28;01mfor\u001b[39;00m x \u001b[38;5;129;01min\u001b[39;00m casted_key)\n\u001b[0;32m   3810\u001b[0m     ):\n\u001b[0;32m   3811\u001b[0m         \u001b[38;5;28;01mraise\u001b[39;00m InvalidIndexError(key)\n\u001b[1;32m-> 3812\u001b[0m     \u001b[38;5;28;01mraise\u001b[39;00m \u001b[38;5;167;01mKeyError\u001b[39;00m(key) \u001b[38;5;28;01mfrom\u001b[39;00m \u001b[38;5;21;01merr\u001b[39;00m\n\u001b[0;32m   3813\u001b[0m \u001b[38;5;28;01mexcept\u001b[39;00m \u001b[38;5;167;01mTypeError\u001b[39;00m:\n\u001b[0;32m   3814\u001b[0m     \u001b[38;5;66;03m# If we have a listlike key, _check_indexing_error will raise\u001b[39;00m\n\u001b[0;32m   3815\u001b[0m     \u001b[38;5;66;03m#  InvalidIndexError. Otherwise we fall through and re-raise\u001b[39;00m\n\u001b[0;32m   3816\u001b[0m     \u001b[38;5;66;03m#  the TypeError.\u001b[39;00m\n\u001b[0;32m   3817\u001b[0m     \u001b[38;5;28mself\u001b[39m\u001b[38;5;241m.\u001b[39m_check_indexing_error(key)\n",
      "\u001b[1;31mKeyError\u001b[0m: 'da_prices'"
     ]
    }
   ],
   "source": [
    "idx = df['load_capacity_ratio'].argmax()\n",
    "print(df['da_prices'].shift(24).iloc[idx])\n",
    "print(df['da_prices'].iloc[idx-24])"
   ]
  },
  {
   "cell_type": "code",
   "execution_count": null,
   "metadata": {},
   "outputs": [
    {
     "name": "stdout",
     "output_type": "stream",
     "text": [
      "2019-12-11 13:00:00 35.5\n",
      "2019-12-12 13:00:00 30.2675\n"
     ]
    }
   ],
   "source": [
    "idx = df['load_capacity_ratio'].argmax()\n",
    "pd.set_option('display.float_format', '{:.5f}'.format)\n",
    "print(df.index[idx-24], df['da_prices'].shift(24).iloc[idx])\n",
    "print(df.index[idx], df['rt_prices'].iloc[idx])"
   ]
  },
  {
   "cell_type": "code",
   "execution_count": null,
   "metadata": {},
   "outputs": [],
   "source": []
  },
  {
   "cell_type": "markdown",
   "metadata": {},
   "source": []
  }
 ],
 "metadata": {
  "kernelspec": {
   "display_name": "Python 3",
   "language": "python",
   "name": "python3"
  },
  "language_info": {
   "codemirror_mode": {
    "name": "ipython",
    "version": 3
   },
   "file_extension": ".py",
   "mimetype": "text/x-python",
   "name": "python",
   "nbconvert_exporter": "python",
   "pygments_lexer": "ipython3",
   "version": "3.12.6"
  }
 },
 "nbformat": 4,
 "nbformat_minor": 2
}
