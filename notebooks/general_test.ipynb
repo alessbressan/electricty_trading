{
 "cells": [
  {
   "cell_type": "code",
   "execution_count": 1,
   "metadata": {},
   "outputs": [],
   "source": [
    "import matplotlib.pyplot as plt\n",
    "import pandas as pd\n",
    "import numpy as np\n",
    "import os"
   ]
  },
  {
   "cell_type": "code",
   "execution_count": 2,
   "metadata": {},
   "outputs": [
    {
     "data": {
      "application/vnd.microsoft.datawrangler.viewer.v0+json": {
       "columns": [
        {
         "name": "index",
         "rawType": "int64",
         "type": "integer"
        },
        {
         "name": "date",
         "rawType": "object",
         "type": "string"
        },
        {
         "name": "hdd",
         "rawType": "float64",
         "type": "float"
        },
        {
         "name": "cdd",
         "rawType": "float64",
         "type": "float"
        },
        {
         "name": "temperature",
         "rawType": "float64",
         "type": "float"
        },
        {
         "name": "wind_speed",
         "rawType": "float64",
         "type": "float"
        },
        {
         "name": "load_capacity_ratio",
         "rawType": "float64",
         "type": "float"
        },
        {
         "name": "load_error",
         "rawType": "float64",
         "type": "float"
        },
        {
         "name": "price_error",
         "rawType": "float64",
         "type": "float"
        },
        {
         "name": "n_spikes_30",
         "rawType": "float64",
         "type": "float"
        },
        {
         "name": "n_spikes_45",
         "rawType": "float64",
         "type": "float"
        },
        {
         "name": "n_spikes_60",
         "rawType": "float64",
         "type": "float"
        },
        {
         "name": "past_da_load_error",
         "rawType": "float64",
         "type": "float"
        },
        {
         "name": "past_da_price_error",
         "rawType": "float64",
         "type": "float"
        }
       ],
       "conversionMethod": "pd.DataFrame",
       "ref": "783dae0b-8788-4824-8cf3-d464560b866b",
       "rows": [
        [
         "0",
         "2018-01-01 01:00:00",
         "31.252500343322755",
         "0.0",
         "-12.9525",
         "7.127636",
         "0.8574053882592867",
         "261.0166666666669",
         "4.285833333333329",
         "1.0",
         "0.0",
         "0.0",
         "1084975.9692573692",
         "7981.019497973351"
        ],
        [
         "1",
         "2018-01-01 02:00:00",
         "31.052500534057614",
         "0.0",
         "-12.752501",
         "8.209263",
         "0.8248154208296974",
         "206.4416666666666",
         "5.501666666666679",
         "1.0",
         "0.0",
         "0.0",
         "1146670.955924036",
         "7950.376197973352"
        ],
        [
         "2",
         "2018-01-01 03:00:00",
         "30.902499961853028",
         "0.0",
         "-12.6025",
         "9.83268",
         "0.8256600657886544",
         "154.32500000000027",
         "13.272500000000008",
         "1.0",
         "0.0",
         "0.0",
         "1187289.5373823694",
         "7368.989197973351"
        ],
        [
         "3",
         "2018-01-01 04:00:00",
         "31.252500343322755",
         "0.0",
         "-12.9525",
         "9.028754",
         "0.8140850804293872",
         "110.79166666666652",
         "-1.3383333333333385",
         "1.0",
         "0.0",
         "0.0",
         "1211103.806271258",
         "7445.248429223353"
        ],
        [
         "4",
         "2018-01-01 05:00:00",
         "31.002500343322755",
         "0.0",
         "-12.7025",
         "9.085988",
         "0.8155841129558021",
         "90.54999999999971",
         "8.066666666666663",
         "1.0",
         "0.0",
         "0.0",
         "1223032.3296045917",
         "7339.658159084463"
        ]
       ],
       "shape": {
        "columns": 13,
        "rows": 5
       }
      },
      "text/html": [
       "<div>\n",
       "<style scoped>\n",
       "    .dataframe tbody tr th:only-of-type {\n",
       "        vertical-align: middle;\n",
       "    }\n",
       "\n",
       "    .dataframe tbody tr th {\n",
       "        vertical-align: top;\n",
       "    }\n",
       "\n",
       "    .dataframe thead th {\n",
       "        text-align: right;\n",
       "    }\n",
       "</style>\n",
       "<table border=\"1\" class=\"dataframe\">\n",
       "  <thead>\n",
       "    <tr style=\"text-align: right;\">\n",
       "      <th></th>\n",
       "      <th>date</th>\n",
       "      <th>hdd</th>\n",
       "      <th>cdd</th>\n",
       "      <th>temperature</th>\n",
       "      <th>wind_speed</th>\n",
       "      <th>load_capacity_ratio</th>\n",
       "      <th>load_error</th>\n",
       "      <th>price_error</th>\n",
       "      <th>n_spikes_30</th>\n",
       "      <th>n_spikes_45</th>\n",
       "      <th>n_spikes_60</th>\n",
       "      <th>past_da_load_error</th>\n",
       "      <th>past_da_price_error</th>\n",
       "    </tr>\n",
       "  </thead>\n",
       "  <tbody>\n",
       "    <tr>\n",
       "      <th>0</th>\n",
       "      <td>2018-01-01 01:00:00</td>\n",
       "      <td>31.252500</td>\n",
       "      <td>0.0</td>\n",
       "      <td>-12.952500</td>\n",
       "      <td>7.127636</td>\n",
       "      <td>0.857405</td>\n",
       "      <td>261.016667</td>\n",
       "      <td>4.285833</td>\n",
       "      <td>1.0</td>\n",
       "      <td>0.0</td>\n",
       "      <td>0.0</td>\n",
       "      <td>1.084976e+06</td>\n",
       "      <td>7981.019498</td>\n",
       "    </tr>\n",
       "    <tr>\n",
       "      <th>1</th>\n",
       "      <td>2018-01-01 02:00:00</td>\n",
       "      <td>31.052501</td>\n",
       "      <td>0.0</td>\n",
       "      <td>-12.752501</td>\n",
       "      <td>8.209263</td>\n",
       "      <td>0.824815</td>\n",
       "      <td>206.441667</td>\n",
       "      <td>5.501667</td>\n",
       "      <td>1.0</td>\n",
       "      <td>0.0</td>\n",
       "      <td>0.0</td>\n",
       "      <td>1.146671e+06</td>\n",
       "      <td>7950.376198</td>\n",
       "    </tr>\n",
       "    <tr>\n",
       "      <th>2</th>\n",
       "      <td>2018-01-01 03:00:00</td>\n",
       "      <td>30.902500</td>\n",
       "      <td>0.0</td>\n",
       "      <td>-12.602500</td>\n",
       "      <td>9.832680</td>\n",
       "      <td>0.825660</td>\n",
       "      <td>154.325000</td>\n",
       "      <td>13.272500</td>\n",
       "      <td>1.0</td>\n",
       "      <td>0.0</td>\n",
       "      <td>0.0</td>\n",
       "      <td>1.187290e+06</td>\n",
       "      <td>7368.989198</td>\n",
       "    </tr>\n",
       "    <tr>\n",
       "      <th>3</th>\n",
       "      <td>2018-01-01 04:00:00</td>\n",
       "      <td>31.252500</td>\n",
       "      <td>0.0</td>\n",
       "      <td>-12.952500</td>\n",
       "      <td>9.028754</td>\n",
       "      <td>0.814085</td>\n",
       "      <td>110.791667</td>\n",
       "      <td>-1.338333</td>\n",
       "      <td>1.0</td>\n",
       "      <td>0.0</td>\n",
       "      <td>0.0</td>\n",
       "      <td>1.211104e+06</td>\n",
       "      <td>7445.248429</td>\n",
       "    </tr>\n",
       "    <tr>\n",
       "      <th>4</th>\n",
       "      <td>2018-01-01 05:00:00</td>\n",
       "      <td>31.002500</td>\n",
       "      <td>0.0</td>\n",
       "      <td>-12.702500</td>\n",
       "      <td>9.085988</td>\n",
       "      <td>0.815584</td>\n",
       "      <td>90.550000</td>\n",
       "      <td>8.066667</td>\n",
       "      <td>1.0</td>\n",
       "      <td>0.0</td>\n",
       "      <td>0.0</td>\n",
       "      <td>1.223032e+06</td>\n",
       "      <td>7339.658159</td>\n",
       "    </tr>\n",
       "  </tbody>\n",
       "</table>\n",
       "</div>"
      ],
      "text/plain": [
       "                  date        hdd  cdd  temperature  wind_speed  \\\n",
       "0  2018-01-01 01:00:00  31.252500  0.0   -12.952500    7.127636   \n",
       "1  2018-01-01 02:00:00  31.052501  0.0   -12.752501    8.209263   \n",
       "2  2018-01-01 03:00:00  30.902500  0.0   -12.602500    9.832680   \n",
       "3  2018-01-01 04:00:00  31.252500  0.0   -12.952500    9.028754   \n",
       "4  2018-01-01 05:00:00  31.002500  0.0   -12.702500    9.085988   \n",
       "\n",
       "   load_capacity_ratio  load_error  price_error  n_spikes_30  n_spikes_45  \\\n",
       "0             0.857405  261.016667     4.285833          1.0          0.0   \n",
       "1             0.824815  206.441667     5.501667          1.0          0.0   \n",
       "2             0.825660  154.325000    13.272500          1.0          0.0   \n",
       "3             0.814085  110.791667    -1.338333          1.0          0.0   \n",
       "4             0.815584   90.550000     8.066667          1.0          0.0   \n",
       "\n",
       "   n_spikes_60  past_da_load_error  past_da_price_error  \n",
       "0          0.0        1.084976e+06          7981.019498  \n",
       "1          0.0        1.146671e+06          7950.376198  \n",
       "2          0.0        1.187290e+06          7368.989198  \n",
       "3          0.0        1.211104e+06          7445.248429  \n",
       "4          0.0        1.223032e+06          7339.658159  "
      ]
     },
     "execution_count": 2,
     "metadata": {},
     "output_type": "execute_result"
    }
   ],
   "source": [
    "df = pd.read_csv('../data/ml_features_subset.csv')\n",
    "df.head()"
   ]
  },
  {
   "cell_type": "code",
   "execution_count": 12,
   "metadata": {},
   "outputs": [
    {
     "data": {
      "text/plain": [
       "(array([1.0000e+00, 0.0000e+00, 0.0000e+00, 0.0000e+00, 1.0000e+00,\n",
       "        0.0000e+00, 1.0000e+00, 0.0000e+00, 0.0000e+00, 1.0000e+00,\n",
       "        1.0000e+00, 2.0000e+00, 0.0000e+00, 1.0000e+00, 0.0000e+00,\n",
       "        1.0000e+00, 1.0000e+00, 0.0000e+00, 1.0000e+00, 2.0000e+00,\n",
       "        2.0000e+00, 3.0000e+00, 3.0000e+00, 6.0000e+00, 7.0000e+00,\n",
       "        1.0000e+01, 3.6000e+01, 1.4800e+02, 6.3800e+02, 6.1860e+03,\n",
       "        3.9668e+04, 3.6180e+03, 8.9500e+02, 4.1700e+02, 1.9300e+02,\n",
       "        1.1100e+02, 8.7000e+01, 4.3000e+01, 3.0000e+01, 2.5000e+01,\n",
       "        1.5000e+01, 1.1000e+01, 9.0000e+00, 3.0000e+00, 1.0000e+01,\n",
       "        4.0000e+00, 4.0000e+00, 6.0000e+00, 2.0000e+00, 2.0000e+00,\n",
       "        0.0000e+00, 2.0000e+00, 3.0000e+00, 3.0000e+00, 2.0000e+00,\n",
       "        1.0000e+00, 1.0000e+00, 1.0000e+00, 3.0000e+00, 1.0000e+00,\n",
       "        1.0000e+00, 0.0000e+00, 0.0000e+00, 2.0000e+00, 2.0000e+00,\n",
       "        0.0000e+00, 0.0000e+00, 0.0000e+00, 0.0000e+00, 0.0000e+00,\n",
       "        0.0000e+00, 0.0000e+00, 0.0000e+00, 0.0000e+00, 1.0000e+00,\n",
       "        0.0000e+00, 1.0000e+00, 0.0000e+00, 0.0000e+00, 0.0000e+00,\n",
       "        0.0000e+00, 0.0000e+00, 0.0000e+00, 0.0000e+00, 0.0000e+00,\n",
       "        0.0000e+00, 0.0000e+00, 0.0000e+00, 0.0000e+00, 0.0000e+00,\n",
       "        0.0000e+00, 0.0000e+00, 0.0000e+00, 0.0000e+00, 0.0000e+00,\n",
       "        1.0000e+00, 0.0000e+00, 0.0000e+00, 1.0000e+00, 0.0000e+00,\n",
       "        1.0000e+00, 1.0000e+00, 0.0000e+00, 0.0000e+00, 0.0000e+00,\n",
       "        0.0000e+00, 0.0000e+00, 0.0000e+00, 0.0000e+00, 1.0000e+00]),\n",
       " array([-1148.30583333, -1110.6463525 , -1072.98687166, -1035.32739082,\n",
       "         -997.66790998,  -960.00842914,  -922.34894831,  -884.68946747,\n",
       "         -847.02998663,  -809.37050579,  -771.71102496,  -734.05154412,\n",
       "         -696.39206328,  -658.73258244,  -621.0731016 ,  -583.41362077,\n",
       "         -545.75413993,  -508.09465909,  -470.43517825,  -432.77569742,\n",
       "         -395.11621658,  -357.45673574,  -319.7972549 ,  -282.13777406,\n",
       "         -244.47829323,  -206.81881239,  -169.15933155,  -131.49985071,\n",
       "          -93.84036988,   -56.18088904,   -18.5214082 ,    19.13807264,\n",
       "           56.79755348,    94.45703431,   132.11651515,   169.77599599,\n",
       "          207.43547683,   245.09495766,   282.7544385 ,   320.41391934,\n",
       "          358.07340018,   395.73288102,   433.39236185,   471.05184269,\n",
       "          508.71132353,   546.37080437,   584.0302852 ,   621.68976604,\n",
       "          659.34924688,   697.00872772,   734.66820856,   772.32768939,\n",
       "          809.98717023,   847.64665107,   885.30613191,   922.96561275,\n",
       "          960.62509358,   998.28457442,  1035.94405526,  1073.6035361 ,\n",
       "         1111.26301693,  1148.92249777,  1186.58197861,  1224.24145945,\n",
       "         1261.90094029,  1299.56042112,  1337.21990196,  1374.8793828 ,\n",
       "         1412.53886364,  1450.19834447,  1487.85782531,  1525.51730615,\n",
       "         1563.17678699,  1600.83626783,  1638.49574866,  1676.1552295 ,\n",
       "         1713.81471034,  1751.47419118,  1789.13367201,  1826.79315285,\n",
       "         1864.45263369,  1902.11211453,  1939.77159537,  1977.4310762 ,\n",
       "         2015.09055704,  2052.75003788,  2090.40951872,  2128.06899955,\n",
       "         2165.72848039,  2203.38796123,  2241.04744207,  2278.70692291,\n",
       "         2316.36640374,  2354.02588458,  2391.68536542,  2429.34484626,\n",
       "         2467.00432709,  2504.66380793,  2542.32328877,  2579.98276961,\n",
       "         2617.64225045,  2655.30173128,  2692.96121212,  2730.62069296,\n",
       "         2768.2801738 ,  2805.93965463,  2843.59913547,  2881.25861631,\n",
       "         2918.91809715,  2956.57757799,  2994.23705882]),\n",
       " <BarContainer object of 110 artists>)"
      ]
     },
     "execution_count": 12,
     "metadata": {},
     "output_type": "execute_result"
    },
    {
     "data": {
      "image/png": "[encoded data removed]",
      "text/plain": [
       "<Figure size 640x480 with 1 Axes>"
      ]
     },
     "metadata": {},
     "output_type": "display_data"
    }
   ],
   "source": [
    "plt.hist(df['price_error'], bins= round(np.log(df['price_error'].count()))*10)"
   ]
  },
  {
   "cell_type": "code",
   "execution_count": 13,
   "metadata": {},
   "outputs": [
    {
     "data": {
      "text/plain": [
       "[<matplotlib.lines.Line2D at 0x273fce4c6b0>]"
      ]
     },
     "execution_count": 13,
     "metadata": {},
     "output_type": "execute_result"
    },
    {
     "data": {
      "image/png": "[encoded data removed]",
      "text/plain": [
       "<Figure size 640x480 with 1 Axes>"
      ]
     },
     "metadata": {},
     "output_type": "display_data"
    }
   ],
   "source": [
    "plt.plot(df['price_error'])"
   ]
  },
  {
   "cell_type": "code",
   "execution_count": 15,
   "metadata": {},
   "outputs": [
    {
     "data": {
      "text/plain": [
       "Index(['date', 'hdd', 'cdd', 'temperature', 'wind_speed',\n",
       "       'load_capacity_ratio', 'load_error', 'price_error', 'n_spikes_30',\n",
       "       'n_spikes_45', 'n_spikes_60', 'past_da_load_error',\n",
       "       'past_da_price_error'],\n",
       "      dtype='object')"
      ]
     },
     "execution_count": 15,
     "metadata": {},
     "output_type": "execute_result"
    }
   ],
   "source": [
    "df.columns"
   ]
  }
 ],
 "metadata": {
  "kernelspec": {
   "display_name": "Python 3",
   "language": "python",
   "name": "python3"
  },
  "language_info": {
   "codemirror_mode": {
    "name": "ipython",
    "version": 3
   },
   "file_extension": ".py",
   "mimetype": "text/x-python",
   "name": "python",
   "nbconvert_exporter": "python",
   "pygments_lexer": "ipython3",
   "version": "3.12.6"
  }
 },
 "nbformat": 4,
 "nbformat_minor": 2
}
