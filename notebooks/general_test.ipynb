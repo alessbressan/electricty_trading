{
 "cells": [
  {
   "cell_type": "code",
   "execution_count": 13,
   "metadata": {},
   "outputs": [],
   "source": [
    "import matplotlib.pyplot as plt\n",
    "import pandas as pd\n",
    "import numpy as np\n",
    "import os"
   ]
  },
  {
   "cell_type": "code",
   "execution_count": 14,
   "metadata": {},
   "outputs": [
    {
     "data": {
      "application/vnd.microsoft.datawrangler.viewer.v0+json": {
       "columns": [
        {
         "name": "index",
         "rawType": "int64",
         "type": "integer"
        },
        {
         "name": "date",
         "rawType": "object",
         "type": "string"
        },
        {
         "name": "spike_30",
         "rawType": "int64",
         "type": "integer"
        },
        {
         "name": "past_spikes_30",
         "rawType": "float64",
         "type": "float"
        },
        {
         "name": "wind_speed",
         "rawType": "float64",
         "type": "float"
        },
        {
         "name": "precipitation",
         "rawType": "float64",
         "type": "float"
        },
        {
         "name": "hdd",
         "rawType": "float64",
         "type": "float"
        },
        {
         "name": "cdd",
         "rawType": "float64",
         "type": "float"
        },
        {
         "name": "past_da_load_error",
         "rawType": "float64",
         "type": "float"
        },
        {
         "name": "past_da_price_error",
         "rawType": "float64",
         "type": "float"
        },
        {
         "name": "month",
         "rawType": "int64",
         "type": "integer"
        },
        {
         "name": "hour",
         "rawType": "int64",
         "type": "integer"
        },
        {
         "name": "is_weekend",
         "rawType": "int64",
         "type": "integer"
        },
        {
         "name": "is_holiday",
         "rawType": "int64",
         "type": "integer"
        },
        {
         "name": "load_capacity_ratio",
         "rawType": "float64",
         "type": "float"
        }
       ],
       "conversionMethod": "pd.DataFrame",
       "ref": "3796e850-2801-4d01-bd41-8c893ed77892",
       "rows": [
        [
         "0",
         "2018-01-01 01:00:00",
         "0",
         "2.0",
         "7.127636",
         "0.0",
         "31.102499771118165",
         "0.0",
         "1527919.426400227",
         "10950.736578925736",
         "1",
         "1",
         "0",
         "0",
         "1.0837703140390471"
        ],
        [
         "1",
         "2018-01-01 02:00:00",
         "0",
         "2.0",
         "8.209263",
         "0.0",
         "31.252500343322755",
         "0.0",
         "1514983.2797335605",
         "10831.041828925736",
         "1",
         "2",
         "0",
         "0",
         "0.8574053882592867"
        ],
        [
         "2",
         "2018-01-01 03:00:00",
         "0",
         "2.0",
         "9.83268",
         "0.0",
         "31.052500534057614",
         "0.0",
         "1513765.561191894",
         "10264.167962259067",
         "1",
         "3",
         "0",
         "0",
         "0.8248154208296974"
        ],
        [
         "3",
         "2018-01-01 04:00:00",
         "0",
         "2.0",
         "9.028754",
         "0.0",
         "30.902499961853028",
         "0.0",
         "1521222.546747449",
         "10335.796293509067",
         "1",
         "4",
         "0",
         "0",
         "0.8256600657886544"
        ],
        [
         "4",
         "2018-01-01 05:00:00",
         "0",
         "2.0",
         "9.085988",
         "0.0",
         "31.252500343322755",
         "0.0",
         "1535811.2367474495",
         "10329.139456703511",
         "1",
         "5",
         "0",
         "0",
         "0.8140850804293872"
        ]
       ],
       "shape": {
        "columns": 14,
        "rows": 5
       }
      },
      "text/html": [
       "<div>\n",
       "<style scoped>\n",
       "    .dataframe tbody tr th:only-of-type {\n",
       "        vertical-align: middle;\n",
       "    }\n",
       "\n",
       "    .dataframe tbody tr th {\n",
       "        vertical-align: top;\n",
       "    }\n",
       "\n",
       "    .dataframe thead th {\n",
       "        text-align: right;\n",
       "    }\n",
       "</style>\n",
       "<table border=\"1\" class=\"dataframe\">\n",
       "  <thead>\n",
       "    <tr style=\"text-align: right;\">\n",
       "      <th></th>\n",
       "      <th>date</th>\n",
       "      <th>spike_30</th>\n",
       "      <th>past_spikes_30</th>\n",
       "      <th>wind_speed</th>\n",
       "      <th>precipitation</th>\n",
       "      <th>hdd</th>\n",
       "      <th>cdd</th>\n",
       "      <th>past_da_load_error</th>\n",
       "      <th>past_da_price_error</th>\n",
       "      <th>month</th>\n",
       "      <th>hour</th>\n",
       "      <th>is_weekend</th>\n",
       "      <th>is_holiday</th>\n",
       "      <th>load_capacity_ratio</th>\n",
       "    </tr>\n",
       "  </thead>\n",
       "  <tbody>\n",
       "    <tr>\n",
       "      <th>0</th>\n",
       "      <td>2018-01-01 01:00:00</td>\n",
       "      <td>0</td>\n",
       "      <td>2.0</td>\n",
       "      <td>7.127636</td>\n",
       "      <td>0.0</td>\n",
       "      <td>31.102500</td>\n",
       "      <td>0.0</td>\n",
       "      <td>1.527919e+06</td>\n",
       "      <td>10950.736579</td>\n",
       "      <td>1</td>\n",
       "      <td>1</td>\n",
       "      <td>0</td>\n",
       "      <td>0</td>\n",
       "      <td>1.083770</td>\n",
       "    </tr>\n",
       "    <tr>\n",
       "      <th>1</th>\n",
       "      <td>2018-01-01 02:00:00</td>\n",
       "      <td>0</td>\n",
       "      <td>2.0</td>\n",
       "      <td>8.209263</td>\n",
       "      <td>0.0</td>\n",
       "      <td>31.252500</td>\n",
       "      <td>0.0</td>\n",
       "      <td>1.514983e+06</td>\n",
       "      <td>10831.041829</td>\n",
       "      <td>1</td>\n",
       "      <td>2</td>\n",
       "      <td>0</td>\n",
       "      <td>0</td>\n",
       "      <td>0.857405</td>\n",
       "    </tr>\n",
       "    <tr>\n",
       "      <th>2</th>\n",
       "      <td>2018-01-01 03:00:00</td>\n",
       "      <td>0</td>\n",
       "      <td>2.0</td>\n",
       "      <td>9.832680</td>\n",
       "      <td>0.0</td>\n",
       "      <td>31.052501</td>\n",
       "      <td>0.0</td>\n",
       "      <td>1.513766e+06</td>\n",
       "      <td>10264.167962</td>\n",
       "      <td>1</td>\n",
       "      <td>3</td>\n",
       "      <td>0</td>\n",
       "      <td>0</td>\n",
       "      <td>0.824815</td>\n",
       "    </tr>\n",
       "    <tr>\n",
       "      <th>3</th>\n",
       "      <td>2018-01-01 04:00:00</td>\n",
       "      <td>0</td>\n",
       "      <td>2.0</td>\n",
       "      <td>9.028754</td>\n",
       "      <td>0.0</td>\n",
       "      <td>30.902500</td>\n",
       "      <td>0.0</td>\n",
       "      <td>1.521223e+06</td>\n",
       "      <td>10335.796294</td>\n",
       "      <td>1</td>\n",
       "      <td>4</td>\n",
       "      <td>0</td>\n",
       "      <td>0</td>\n",
       "      <td>0.825660</td>\n",
       "    </tr>\n",
       "    <tr>\n",
       "      <th>4</th>\n",
       "      <td>2018-01-01 05:00:00</td>\n",
       "      <td>0</td>\n",
       "      <td>2.0</td>\n",
       "      <td>9.085988</td>\n",
       "      <td>0.0</td>\n",
       "      <td>31.252500</td>\n",
       "      <td>0.0</td>\n",
       "      <td>1.535811e+06</td>\n",
       "      <td>10329.139457</td>\n",
       "      <td>1</td>\n",
       "      <td>5</td>\n",
       "      <td>0</td>\n",
       "      <td>0</td>\n",
       "      <td>0.814085</td>\n",
       "    </tr>\n",
       "  </tbody>\n",
       "</table>\n",
       "</div>"
      ],
      "text/plain": [
       "                  date  spike_30  past_spikes_30  wind_speed  precipitation  \\\n",
       "0  2018-01-01 01:00:00         0             2.0    7.127636            0.0   \n",
       "1  2018-01-01 02:00:00         0             2.0    8.209263            0.0   \n",
       "2  2018-01-01 03:00:00         0             2.0    9.832680            0.0   \n",
       "3  2018-01-01 04:00:00         0             2.0    9.028754            0.0   \n",
       "4  2018-01-01 05:00:00         0             2.0    9.085988            0.0   \n",
       "\n",
       "         hdd  cdd  past_da_load_error  past_da_price_error  month  hour  \\\n",
       "0  31.102500  0.0        1.527919e+06         10950.736579      1     1   \n",
       "1  31.252500  0.0        1.514983e+06         10831.041829      1     2   \n",
       "2  31.052501  0.0        1.513766e+06         10264.167962      1     3   \n",
       "3  30.902500  0.0        1.521223e+06         10335.796294      1     4   \n",
       "4  31.252500  0.0        1.535811e+06         10329.139457      1     5   \n",
       "\n",
       "   is_weekend  is_holiday  load_capacity_ratio  \n",
       "0           0           0             1.083770  \n",
       "1           0           0             0.857405  \n",
       "2           0           0             0.824815  \n",
       "3           0           0             0.825660  \n",
       "4           0           0             0.814085  "
      ]
     },
     "execution_count": 14,
     "metadata": {},
     "output_type": "execute_result"
    }
   ],
   "source": [
    "df = pd.read_csv('../data/ml_features_subset.csv')\n",
    "df.head()"
   ]
  },
  {
   "cell_type": "code",
   "execution_count": null,
   "metadata": {},
   "outputs": [
    {
     "data": {
      "text/plain": [
       "spike_30               6.330716e-02\n",
       "past_spikes_30         1.520120e+00\n",
       "wind_speed             1.232964e+01\n",
       "precipitation          1.506831e-01\n",
       "hdd                    7.692262e+00\n",
       "cdd                    1.649448e+00\n",
       "past_da_load_error     1.297536e+06\n",
       "past_da_price_error    3.738954e+04\n",
       "month                  6.547559e+00\n",
       "hour                   1.150240e+01\n",
       "is_weekend             2.832571e-01\n",
       "is_holiday             1.323094e-03\n",
       "load_capacity_ratio    6.324037e+01\n",
       "dtype: float64"
      ]
     },
     "execution_count": 15,
     "metadata": {},
     "output_type": "execute_result"
    }
   ],
   "source": [
    "df.drop(columns= 'date', inplace= True)"
   ]
  },
  {
   "cell_type": "code",
   "execution_count": 19,
   "metadata": {},
   "outputs": [
    {
     "name": "stdout",
     "output_type": "stream",
     "text": [
      "spike_30               6.330716e-02\n",
      "past_spikes_30         1.520120e+00\n",
      "wind_speed             1.232964e+01\n",
      "precipitation          1.506831e-01\n",
      "hdd                    7.692262e+00\n",
      "cdd                    1.649448e+00\n",
      "past_da_load_error     1.297536e+06\n",
      "past_da_price_error    3.738954e+04\n",
      "month                  6.547559e+00\n",
      "hour                   1.150240e+01\n",
      "is_weekend             2.832571e-01\n",
      "is_holiday             1.323094e-03\n",
      "load_capacity_ratio    6.324037e+01\n",
      "dtype: float64\n",
      "spike_30               2.435181e-01\n",
      "past_spikes_30         2.423469e+00\n",
      "wind_speed             7.004305e+00\n",
      "precipitation          1.408874e+00\n",
      "hdd                    7.632753e+00\n",
      "cdd                    3.050498e+00\n",
      "past_da_load_error     2.008258e+06\n",
      "past_da_price_error    2.321310e+05\n",
      "month                  3.452787e+00\n",
      "hour                   6.921556e+00\n",
      "is_weekend             4.505867e-01\n",
      "is_holiday             3.635081e-02\n",
      "load_capacity_ratio    1.160576e+04\n",
      "dtype: float64\n"
     ]
    }
   ],
   "source": [
    "print(df.mean())\n",
    "print(df.std())"
   ]
  },
  {
   "cell_type": "code",
   "execution_count": 16,
   "metadata": {},
   "outputs": [
    {
     "ename": "KeyError",
     "evalue": "'price_error'",
     "output_type": "error",
     "traceback": [
      "\u001b[1;31m---------------------------------------------------------------------------\u001b[0m",
      "\u001b[1;31mKeyError\u001b[0m                                  Traceback (most recent call last)",
      "File \u001b[1;32mc:\\Users\\alebr\\AppData\\Local\\Programs\\Python\\Python312\\Lib\\site-packages\\pandas\\core\\indexes\\base.py:3805\u001b[0m, in \u001b[0;36mIndex.get_loc\u001b[1;34m(self, key)\u001b[0m\n\u001b[0;32m   3804\u001b[0m \u001b[38;5;28;01mtry\u001b[39;00m:\n\u001b[1;32m-> 3805\u001b[0m     \u001b[38;5;28;01mreturn\u001b[39;00m \u001b[38;5;28;43mself\u001b[39;49m\u001b[38;5;241;43m.\u001b[39;49m\u001b[43m_engine\u001b[49m\u001b[38;5;241;43m.\u001b[39;49m\u001b[43mget_loc\u001b[49m\u001b[43m(\u001b[49m\u001b[43mcasted_key\u001b[49m\u001b[43m)\u001b[49m\n\u001b[0;32m   3806\u001b[0m \u001b[38;5;28;01mexcept\u001b[39;00m \u001b[38;5;167;01mKeyError\u001b[39;00m \u001b[38;5;28;01mas\u001b[39;00m err:\n",
      "File \u001b[1;32mindex.pyx:167\u001b[0m, in \u001b[0;36mpandas._libs.index.IndexEngine.get_loc\u001b[1;34m()\u001b[0m\n",
      "File \u001b[1;32mindex.pyx:196\u001b[0m, in \u001b[0;36mpandas._libs.index.IndexEngine.get_loc\u001b[1;34m()\u001b[0m\n",
      "File \u001b[1;32mpandas\\\\_libs\\\\hashtable_class_helper.pxi:7081\u001b[0m, in \u001b[0;36mpandas._libs.hashtable.PyObjectHashTable.get_item\u001b[1;34m()\u001b[0m\n",
      "File \u001b[1;32mpandas\\\\_libs\\\\hashtable_class_helper.pxi:7089\u001b[0m, in \u001b[0;36mpandas._libs.hashtable.PyObjectHashTable.get_item\u001b[1;34m()\u001b[0m\n",
      "\u001b[1;31mKeyError\u001b[0m: 'price_error'",
      "\nThe above exception was the direct cause of the following exception:\n",
      "\u001b[1;31mKeyError\u001b[0m                                  Traceback (most recent call last)",
      "Cell \u001b[1;32mIn[16], line 1\u001b[0m\n\u001b[1;32m----> 1\u001b[0m plt\u001b[38;5;241m.\u001b[39mplot(\u001b[43mdf\u001b[49m\u001b[43m[\u001b[49m\u001b[38;5;124;43m'\u001b[39;49m\u001b[38;5;124;43mprice_error\u001b[39;49m\u001b[38;5;124;43m'\u001b[39;49m\u001b[43m]\u001b[49m)\n",
      "File \u001b[1;32mc:\\Users\\alebr\\AppData\\Local\\Programs\\Python\\Python312\\Lib\\site-packages\\pandas\\core\\frame.py:4102\u001b[0m, in \u001b[0;36mDataFrame.__getitem__\u001b[1;34m(self, key)\u001b[0m\n\u001b[0;32m   4100\u001b[0m \u001b[38;5;28;01mif\u001b[39;00m \u001b[38;5;28mself\u001b[39m\u001b[38;5;241m.\u001b[39mcolumns\u001b[38;5;241m.\u001b[39mnlevels \u001b[38;5;241m>\u001b[39m \u001b[38;5;241m1\u001b[39m:\n\u001b[0;32m   4101\u001b[0m     \u001b[38;5;28;01mreturn\u001b[39;00m \u001b[38;5;28mself\u001b[39m\u001b[38;5;241m.\u001b[39m_getitem_multilevel(key)\n\u001b[1;32m-> 4102\u001b[0m indexer \u001b[38;5;241m=\u001b[39m \u001b[38;5;28;43mself\u001b[39;49m\u001b[38;5;241;43m.\u001b[39;49m\u001b[43mcolumns\u001b[49m\u001b[38;5;241;43m.\u001b[39;49m\u001b[43mget_loc\u001b[49m\u001b[43m(\u001b[49m\u001b[43mkey\u001b[49m\u001b[43m)\u001b[49m\n\u001b[0;32m   4103\u001b[0m \u001b[38;5;28;01mif\u001b[39;00m is_integer(indexer):\n\u001b[0;32m   4104\u001b[0m     indexer \u001b[38;5;241m=\u001b[39m [indexer]\n",
      "File \u001b[1;32mc:\\Users\\alebr\\AppData\\Local\\Programs\\Python\\Python312\\Lib\\site-packages\\pandas\\core\\indexes\\base.py:3812\u001b[0m, in \u001b[0;36mIndex.get_loc\u001b[1;34m(self, key)\u001b[0m\n\u001b[0;32m   3807\u001b[0m     \u001b[38;5;28;01mif\u001b[39;00m \u001b[38;5;28misinstance\u001b[39m(casted_key, \u001b[38;5;28mslice\u001b[39m) \u001b[38;5;129;01mor\u001b[39;00m (\n\u001b[0;32m   3808\u001b[0m         \u001b[38;5;28misinstance\u001b[39m(casted_key, abc\u001b[38;5;241m.\u001b[39mIterable)\n\u001b[0;32m   3809\u001b[0m         \u001b[38;5;129;01mand\u001b[39;00m \u001b[38;5;28many\u001b[39m(\u001b[38;5;28misinstance\u001b[39m(x, \u001b[38;5;28mslice\u001b[39m) \u001b[38;5;28;01mfor\u001b[39;00m x \u001b[38;5;129;01min\u001b[39;00m casted_key)\n\u001b[0;32m   3810\u001b[0m     ):\n\u001b[0;32m   3811\u001b[0m         \u001b[38;5;28;01mraise\u001b[39;00m InvalidIndexError(key)\n\u001b[1;32m-> 3812\u001b[0m     \u001b[38;5;28;01mraise\u001b[39;00m \u001b[38;5;167;01mKeyError\u001b[39;00m(key) \u001b[38;5;28;01mfrom\u001b[39;00m \u001b[38;5;21;01merr\u001b[39;00m\n\u001b[0;32m   3813\u001b[0m \u001b[38;5;28;01mexcept\u001b[39;00m \u001b[38;5;167;01mTypeError\u001b[39;00m:\n\u001b[0;32m   3814\u001b[0m     \u001b[38;5;66;03m# If we have a listlike key, _check_indexing_error will raise\u001b[39;00m\n\u001b[0;32m   3815\u001b[0m     \u001b[38;5;66;03m#  InvalidIndexError. Otherwise we fall through and re-raise\u001b[39;00m\n\u001b[0;32m   3816\u001b[0m     \u001b[38;5;66;03m#  the TypeError.\u001b[39;00m\n\u001b[0;32m   3817\u001b[0m     \u001b[38;5;28mself\u001b[39m\u001b[38;5;241m.\u001b[39m_check_indexing_error(key)\n",
      "\u001b[1;31mKeyError\u001b[0m: 'price_error'"
     ]
    }
   ],
   "source": [
    "plt.plot(df['price_error'])"
   ]
  },
  {
   "cell_type": "code",
   "execution_count": null,
   "metadata": {},
   "outputs": [
    {
     "data": {
      "text/plain": [
       "Index(['date', 'hdd', 'cdd', 'temperature', 'wind_speed',\n",
       "       'load_capacity_ratio', 'load_error', 'price_error', 'n_spikes_30',\n",
       "       'n_spikes_45', 'n_spikes_60', 'past_da_load_error',\n",
       "       'past_da_price_error'],\n",
       "      dtype='object')"
      ]
     },
     "execution_count": 15,
     "metadata": {},
     "output_type": "execute_result"
    }
   ],
   "source": [
    "df.columns"
   ]
  }
 ],
 "metadata": {
  "kernelspec": {
   "display_name": "Python 3",
   "language": "python",
   "name": "python3"
  },
  "language_info": {
   "codemirror_mode": {
    "name": "ipython",
    "version": 3
   },
   "file_extension": ".py",
   "mimetype": "text/x-python",
   "name": "python",
   "nbconvert_exporter": "python",
   "pygments_lexer": "ipython3",
   "version": "3.12.6"
  }
 },
 "nbformat": 4,
 "nbformat_minor": 2
}
