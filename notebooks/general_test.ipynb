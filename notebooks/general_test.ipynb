{
 "cells": [
  {
   "cell_type": "code",
   "execution_count": 26,
   "metadata": {},
   "outputs": [],
   "source": [
    "import matplotlib.pyplot as plt\n",
    "import pandas as pd\n",
    "import numpy as np\n",
    "import os\n",
    "from sklearn.compose import ColumnTransformer\n",
    "from sklearn.preprocessing import StandardScaler, MinMaxScaler, FunctionTransformer\n",
    "from sklearn.pipeline import Pipeline"
   ]
  },
  {
   "cell_type": "code",
   "execution_count": 27,
   "metadata": {},
   "outputs": [
    {
     "data": {
      "text/plain": [
       "Index(['date', 'spike_30', 'past_spikes_30', 'wind_speed', 'precipitation',\n",
       "       'hdd', 'cdd', 'past_da_load_error', 'past_da_price_error', 'month',\n",
       "       'hour', 'is_weekend', 'is_holiday', 'load_capacity_ratio'],\n",
       "      dtype='object')"
      ]
     },
     "execution_count": 27,
     "metadata": {},
     "output_type": "execute_result"
    }
   ],
   "source": [
    "df = pd.read_csv('../data/ml_features_subset.csv')\n",
    "df.columns"
   ]
  },
  {
   "cell_type": "code",
   "execution_count": 28,
   "metadata": {},
   "outputs": [],
   "source": [
    "df.set_index('date', inplace= True)"
   ]
  },
  {
   "cell_type": "code",
   "execution_count": 29,
   "metadata": {},
   "outputs": [],
   "source": [
    "gaussian = ['wind_speed']\n",
    "uniform = ['hour', 'month']\n",
    "skewed = ['hdd', 'cdd', 'past_spikes_30', 'precipitation', 'load_capacity_ratio', 'past_da_load_error', 'past_da_price_error']"
   ]
  },
  {
   "cell_type": "code",
   "execution_count": 30,
   "metadata": {},
   "outputs": [],
   "source": [
    "# Create transformers\n",
    "gaussian_transformer = StandardScaler()\n",
    "uniform_transformer = MinMaxScaler()\n",
    "skewed_transformer = Pipeline(steps=[\n",
    "    ('log', FunctionTransformer(np.log1p)),\n",
    "    ('scaler', StandardScaler())\n",
    "])"
   ]
  },
  {
   "cell_type": "code",
   "execution_count": 31,
   "metadata": {},
   "outputs": [],
   "source": [
    "preprocessor = ColumnTransformer(transformers=[\n",
    "    ('gaussian', gaussian_transformer, gaussian),\n",
    "    ('uniform', uniform_transformer, uniform),\n",
    "    ('skewed', skewed_transformer, skewed)\n",
    "])\n"
   ]
  },
  {
   "cell_type": "code",
   "execution_count": 32,
   "metadata": {},
   "outputs": [],
   "source": [
    "transformed_data = preprocessor.fit_transform(df)\n",
    "\n",
    "# Convert back to DataFrame with original column names\n",
    "transformed_df = pd.DataFrame(\n",
    "    transformed_data,\n",
    "    columns=gaussian + uniform + skewed\n",
    ")"
   ]
  },
  {
   "cell_type": "code",
   "execution_count": 33,
   "metadata": {},
   "outputs": [],
   "source": [
    "df['past_da_load_error'] = np.log1p(df['past_da_load_error'])\n",
    "df['past_da_price_error'] = np.log1p(df['past_da_price_error'])\n",
    "df['hdd'] = np.log1p(df['hdd'])\n",
    "df['cdd'] = np.log1p(df['cdd'])\n"
   ]
  },
  {
   "cell_type": "code",
   "execution_count": 34,
   "metadata": {},
   "outputs": [
    {
     "data": {
      "application/vnd.microsoft.datawrangler.viewer.v0+json": {
       "columns": [
        {
         "name": "index",
         "rawType": "object",
         "type": "string"
        },
        {
         "name": "spike_30",
         "rawType": "float64",
         "type": "float"
        },
        {
         "name": "past_spikes_30",
         "rawType": "float64",
         "type": "float"
        },
        {
         "name": "wind_speed",
         "rawType": "float64",
         "type": "float"
        },
        {
         "name": "precipitation",
         "rawType": "float64",
         "type": "float"
        },
        {
         "name": "hdd",
         "rawType": "float64",
         "type": "float"
        },
        {
         "name": "cdd",
         "rawType": "float64",
         "type": "float"
        },
        {
         "name": "past_da_load_error",
         "rawType": "float64",
         "type": "float"
        },
        {
         "name": "past_da_price_error",
         "rawType": "float64",
         "type": "float"
        },
        {
         "name": "month",
         "rawType": "float64",
         "type": "float"
        },
        {
         "name": "hour",
         "rawType": "float64",
         "type": "float"
        },
        {
         "name": "is_weekend",
         "rawType": "float64",
         "type": "float"
        },
        {
         "name": "is_holiday",
         "rawType": "float64",
         "type": "float"
        },
        {
         "name": "load_capacity_ratio",
         "rawType": "float64",
         "type": "float"
        }
       ],
       "conversionMethod": "pd.DataFrame",
       "ref": "b1790adc-bbba-441c-90d4-b5111f2cf024",
       "rows": [
        [
         "count",
         "52093.0",
         "52093.0",
         "52093.0",
         "52093.0",
         "52093.0",
         "52093.0",
         "52093.0",
         "52093.0",
         "52093.0",
         "52093.0",
         "52093.0",
         "52093.0",
         "52093.0"
        ],
        [
         "mean",
         "0.08229512602460984",
         "1.9724531127022824",
         "12.461830724059855",
         "0.13734666846466898",
         "1.5464168771763573",
         "0.5264460424810772",
         "13.54183844478876",
         "9.192545977696236",
         "6.552914978979901",
         "11.501602902501295",
         "0.28495191292496114",
         "0.0013821434741711938",
         "1.1121891547305627"
        ],
        [
         "std",
         "0.27481646248107544",
         "3.321285154960917",
         "7.030435277599933",
         "1.3572865124215236",
         "1.2237990220219725",
         "0.840656290118201",
         "1.2599227044212264",
         "1.640389619538315",
         "3.4507020304852682",
         "6.92190938508964",
         "0.45139587024855793",
         "0.03715184584452841",
         "0.40107295937447246"
        ],
        [
         "min",
         "0.0",
         "0.0",
         "0.0",
         "0.0",
         "0.0",
         "0.0",
         "8.981787551553843",
         "5.20657149228825",
         "1.0",
         "0.0",
         "0.0",
         "0.0",
         "0.0012253742610852"
        ],
        [
         "25%",
         "0.0",
         "0.0",
         "6.989936",
         "0.0",
         "0.0",
         "0.0",
         "12.664758920090085",
         "8.010795509161794",
         "4.0",
         "6.0",
         "0.0",
         "0.0",
         "0.8337742395244767"
        ],
        [
         "50%",
         "0.0",
         "1.0",
         "11.246759",
         "0.0",
         "1.931883659295628",
         "0.0",
         "13.457861101873151",
         "8.971042591621705",
         "7.0",
         "12.0",
         "0.0",
         "0.0",
         "1.0022468156378967"
        ],
        [
         "75%",
         "0.0",
         "2.0",
         "16.854767",
         "0.0",
         "2.6777628040957557",
         "1.162369087447354",
         "14.364780077581528",
         "10.18391400894372",
         "10.0",
         "18.0",
         "1.0",
         "0.0",
         "1.286311297980495"
        ],
        [
         "max",
         "1.0",
         "24.0",
         "55.447014",
         "64.1",
         "3.598749597920156",
         "2.959975545934739",
         "17.496723924050535",
         "17.436528872904972",
         "12.0",
         "23.0",
         "1.0",
         "1.0",
         "6.55510262574183"
        ]
       ],
       "shape": {
        "columns": 13,
        "rows": 8
       }
      },
      "text/html": [
       "<div>\n",
       "<style scoped>\n",
       "    .dataframe tbody tr th:only-of-type {\n",
       "        vertical-align: middle;\n",
       "    }\n",
       "\n",
       "    .dataframe tbody tr th {\n",
       "        vertical-align: top;\n",
       "    }\n",
       "\n",
       "    .dataframe thead th {\n",
       "        text-align: right;\n",
       "    }\n",
       "</style>\n",
       "<table border=\"1\" class=\"dataframe\">\n",
       "  <thead>\n",
       "    <tr style=\"text-align: right;\">\n",
       "      <th></th>\n",
       "      <th>spike_30</th>\n",
       "      <th>past_spikes_30</th>\n",
       "      <th>wind_speed</th>\n",
       "      <th>precipitation</th>\n",
       "      <th>hdd</th>\n",
       "      <th>cdd</th>\n",
       "      <th>past_da_load_error</th>\n",
       "      <th>past_da_price_error</th>\n",
       "      <th>month</th>\n",
       "      <th>hour</th>\n",
       "      <th>is_weekend</th>\n",
       "      <th>is_holiday</th>\n",
       "      <th>load_capacity_ratio</th>\n",
       "    </tr>\n",
       "  </thead>\n",
       "  <tbody>\n",
       "    <tr>\n",
       "      <th>count</th>\n",
       "      <td>52093.000000</td>\n",
       "      <td>52093.000000</td>\n",
       "      <td>52093.000000</td>\n",
       "      <td>52093.000000</td>\n",
       "      <td>52093.000000</td>\n",
       "      <td>52093.000000</td>\n",
       "      <td>52093.000000</td>\n",
       "      <td>52093.000000</td>\n",
       "      <td>52093.000000</td>\n",
       "      <td>52093.000000</td>\n",
       "      <td>52093.000000</td>\n",
       "      <td>52093.000000</td>\n",
       "      <td>52093.000000</td>\n",
       "    </tr>\n",
       "    <tr>\n",
       "      <th>mean</th>\n",
       "      <td>0.082295</td>\n",
       "      <td>1.972453</td>\n",
       "      <td>12.461831</td>\n",
       "      <td>0.137347</td>\n",
       "      <td>1.546417</td>\n",
       "      <td>0.526446</td>\n",
       "      <td>13.541838</td>\n",
       "      <td>9.192546</td>\n",
       "      <td>6.552915</td>\n",
       "      <td>11.501603</td>\n",
       "      <td>0.284952</td>\n",
       "      <td>0.001382</td>\n",
       "      <td>1.112189</td>\n",
       "    </tr>\n",
       "    <tr>\n",
       "      <th>std</th>\n",
       "      <td>0.274816</td>\n",
       "      <td>3.321285</td>\n",
       "      <td>7.030435</td>\n",
       "      <td>1.357287</td>\n",
       "      <td>1.223799</td>\n",
       "      <td>0.840656</td>\n",
       "      <td>1.259923</td>\n",
       "      <td>1.640390</td>\n",
       "      <td>3.450702</td>\n",
       "      <td>6.921909</td>\n",
       "      <td>0.451396</td>\n",
       "      <td>0.037152</td>\n",
       "      <td>0.401073</td>\n",
       "    </tr>\n",
       "    <tr>\n",
       "      <th>min</th>\n",
       "      <td>0.000000</td>\n",
       "      <td>0.000000</td>\n",
       "      <td>0.000000</td>\n",
       "      <td>0.000000</td>\n",
       "      <td>0.000000</td>\n",
       "      <td>0.000000</td>\n",
       "      <td>8.981788</td>\n",
       "      <td>5.206571</td>\n",
       "      <td>1.000000</td>\n",
       "      <td>0.000000</td>\n",
       "      <td>0.000000</td>\n",
       "      <td>0.000000</td>\n",
       "      <td>0.001225</td>\n",
       "    </tr>\n",
       "    <tr>\n",
       "      <th>25%</th>\n",
       "      <td>0.000000</td>\n",
       "      <td>0.000000</td>\n",
       "      <td>6.989936</td>\n",
       "      <td>0.000000</td>\n",
       "      <td>0.000000</td>\n",
       "      <td>0.000000</td>\n",
       "      <td>12.664759</td>\n",
       "      <td>8.010796</td>\n",
       "      <td>4.000000</td>\n",
       "      <td>6.000000</td>\n",
       "      <td>0.000000</td>\n",
       "      <td>0.000000</td>\n",
       "      <td>0.833774</td>\n",
       "    </tr>\n",
       "    <tr>\n",
       "      <th>50%</th>\n",
       "      <td>0.000000</td>\n",
       "      <td>1.000000</td>\n",
       "      <td>11.246759</td>\n",
       "      <td>0.000000</td>\n",
       "      <td>1.931884</td>\n",
       "      <td>0.000000</td>\n",
       "      <td>13.457861</td>\n",
       "      <td>8.971043</td>\n",
       "      <td>7.000000</td>\n",
       "      <td>12.000000</td>\n",
       "      <td>0.000000</td>\n",
       "      <td>0.000000</td>\n",
       "      <td>1.002247</td>\n",
       "    </tr>\n",
       "    <tr>\n",
       "      <th>75%</th>\n",
       "      <td>0.000000</td>\n",
       "      <td>2.000000</td>\n",
       "      <td>16.854767</td>\n",
       "      <td>0.000000</td>\n",
       "      <td>2.677763</td>\n",
       "      <td>1.162369</td>\n",
       "      <td>14.364780</td>\n",
       "      <td>10.183914</td>\n",
       "      <td>10.000000</td>\n",
       "      <td>18.000000</td>\n",
       "      <td>1.000000</td>\n",
       "      <td>0.000000</td>\n",
       "      <td>1.286311</td>\n",
       "    </tr>\n",
       "    <tr>\n",
       "      <th>max</th>\n",
       "      <td>1.000000</td>\n",
       "      <td>24.000000</td>\n",
       "      <td>55.447014</td>\n",
       "      <td>64.100000</td>\n",
       "      <td>3.598750</td>\n",
       "      <td>2.959976</td>\n",
       "      <td>17.496724</td>\n",
       "      <td>17.436529</td>\n",
       "      <td>12.000000</td>\n",
       "      <td>23.000000</td>\n",
       "      <td>1.000000</td>\n",
       "      <td>1.000000</td>\n",
       "      <td>6.555103</td>\n",
       "    </tr>\n",
       "  </tbody>\n",
       "</table>\n",
       "</div>"
      ],
      "text/plain": [
       "           spike_30  past_spikes_30    wind_speed  precipitation  \\\n",
       "count  52093.000000    52093.000000  52093.000000   52093.000000   \n",
       "mean       0.082295        1.972453     12.461831       0.137347   \n",
       "std        0.274816        3.321285      7.030435       1.357287   \n",
       "min        0.000000        0.000000      0.000000       0.000000   \n",
       "25%        0.000000        0.000000      6.989936       0.000000   \n",
       "50%        0.000000        1.000000     11.246759       0.000000   \n",
       "75%        0.000000        2.000000     16.854767       0.000000   \n",
       "max        1.000000       24.000000     55.447014      64.100000   \n",
       "\n",
       "                hdd           cdd  past_da_load_error  past_da_price_error  \\\n",
       "count  52093.000000  52093.000000        52093.000000         52093.000000   \n",
       "mean       1.546417      0.526446           13.541838             9.192546   \n",
       "std        1.223799      0.840656            1.259923             1.640390   \n",
       "min        0.000000      0.000000            8.981788             5.206571   \n",
       "25%        0.000000      0.000000           12.664759             8.010796   \n",
       "50%        1.931884      0.000000           13.457861             8.971043   \n",
       "75%        2.677763      1.162369           14.364780            10.183914   \n",
       "max        3.598750      2.959976           17.496724            17.436529   \n",
       "\n",
       "              month          hour    is_weekend    is_holiday  \\\n",
       "count  52093.000000  52093.000000  52093.000000  52093.000000   \n",
       "mean       6.552915     11.501603      0.284952      0.001382   \n",
       "std        3.450702      6.921909      0.451396      0.037152   \n",
       "min        1.000000      0.000000      0.000000      0.000000   \n",
       "25%        4.000000      6.000000      0.000000      0.000000   \n",
       "50%        7.000000     12.000000      0.000000      0.000000   \n",
       "75%       10.000000     18.000000      1.000000      0.000000   \n",
       "max       12.000000     23.000000      1.000000      1.000000   \n",
       "\n",
       "       load_capacity_ratio  \n",
       "count         52093.000000  \n",
       "mean              1.112189  \n",
       "std               0.401073  \n",
       "min               0.001225  \n",
       "25%               0.833774  \n",
       "50%               1.002247  \n",
       "75%               1.286311  \n",
       "max               6.555103  "
      ]
     },
     "execution_count": 34,
     "metadata": {},
     "output_type": "execute_result"
    }
   ],
   "source": [
    "df.describe()"
   ]
  },
  {
   "cell_type": "code",
   "execution_count": 35,
   "metadata": {},
   "outputs": [
    {
     "data": {
      "application/vnd.microsoft.datawrangler.viewer.v0+json": {
       "columns": [
        {
         "name": "index",
         "rawType": "object",
         "type": "string"
        },
        {
         "name": "wind_speed",
         "rawType": "float64",
         "type": "float"
        },
        {
         "name": "hour",
         "rawType": "float64",
         "type": "float"
        },
        {
         "name": "month",
         "rawType": "float64",
         "type": "float"
        },
        {
         "name": "hdd",
         "rawType": "float64",
         "type": "float"
        },
        {
         "name": "cdd",
         "rawType": "float64",
         "type": "float"
        },
        {
         "name": "past_spikes_30",
         "rawType": "float64",
         "type": "float"
        },
        {
         "name": "precipitation",
         "rawType": "float64",
         "type": "float"
        },
        {
         "name": "load_capacity_ratio",
         "rawType": "float64",
         "type": "float"
        },
        {
         "name": "past_da_load_error",
         "rawType": "float64",
         "type": "float"
        },
        {
         "name": "past_da_price_error",
         "rawType": "float64",
         "type": "float"
        }
       ],
       "conversionMethod": "pd.DataFrame",
       "ref": "85ace18c-17a5-4fda-9487-e7234ec4a751",
       "rows": [
        [
         "count",
         "52093.0",
         "52093.0",
         "52093.0",
         "52093.0",
         "52093.0",
         "52093.0",
         "52093.0",
         "52093.0",
         "52093.0",
         "52093.0"
        ],
        [
         "mean",
         "-3.4918115745798026e-17",
         "0.5000696914130999",
         "0.5048104526345363",
         "6.547146702337129e-18",
         "-3.055335127757327e-17",
         "-3.2735733511685645e-17",
         "8.456731157185459e-18",
         "6.939975504477357e-16",
         "1.2963350470627517e-15",
         "4.0155833107667727e-16"
        ],
        [
         "std",
         "1.0000095983567616",
         "0.3009525819604191",
         "0.3137001845895699",
         "1.0000095983567614",
         "1.0000095983567614",
         "1.0000095983567616",
         "1.0000095983567616",
         "1.0000095983567616",
         "1.0000095983567616",
         "1.0000095983567616"
        ],
        [
         "min",
         "-1.7725716609415025",
         "0.0",
         "0.0",
         "-1.2636320935133754",
         "-0.6262382161251498",
         "-0.8729893139765933",
         "-0.19405322313228016",
         "-4.338009653772397",
         "-3.619344779031522",
         "-2.4299182930302843"
        ],
        [
         "25%",
         "-0.7783226826213817",
         "0.2608695652173913",
         "0.2727272727272727",
         "-1.2636320935133754",
         "-0.6262382161251498",
         "-0.8729893139765933",
         "-0.19405322313228016",
         "-0.7479819115854106",
         "-0.6961442476931725",
         "-0.7204153192152285"
        ],
        [
         "50%",
         "-0.17283188576149733",
         "0.5217391304347826",
         "0.5454545454545454",
         "0.31497858310924876",
         "-0.6262382161251498",
         "-0.012151223378868379",
         "-0.19405322313228016",
         "-0.22655759727409294",
         "-0.06665341347164949",
         "-0.1350322566692397"
        ],
        [
         "75%",
         "0.6248515586092469",
         "0.7826086956521738",
         "0.8181818181818182",
         "0.9244628943337339",
         "0.7564674841047345",
         "0.49140677881320216",
         "-0.19405322313228016",
         "0.5604982980425233",
         "0.6531746184050181",
         "0.6043549257709591"
        ],
        [
         "max",
         "6.1142154313010355",
         "1.0",
         "0.9999999999999999",
         "1.6770338779765726",
         "2.894825019385574",
         "3.1246189814395064",
         "15.929944639742482",
         "7.651449422292608",
         "3.1390206921307424",
         "5.0256731240581605"
        ]
       ],
       "shape": {
        "columns": 10,
        "rows": 8
       }
      },
      "text/html": [
       "<div>\n",
       "<style scoped>\n",
       "    .dataframe tbody tr th:only-of-type {\n",
       "        vertical-align: middle;\n",
       "    }\n",
       "\n",
       "    .dataframe tbody tr th {\n",
       "        vertical-align: top;\n",
       "    }\n",
       "\n",
       "    .dataframe thead th {\n",
       "        text-align: right;\n",
       "    }\n",
       "</style>\n",
       "<table border=\"1\" class=\"dataframe\">\n",
       "  <thead>\n",
       "    <tr style=\"text-align: right;\">\n",
       "      <th></th>\n",
       "      <th>wind_speed</th>\n",
       "      <th>hour</th>\n",
       "      <th>month</th>\n",
       "      <th>hdd</th>\n",
       "      <th>cdd</th>\n",
       "      <th>past_spikes_30</th>\n",
       "      <th>precipitation</th>\n",
       "      <th>load_capacity_ratio</th>\n",
       "      <th>past_da_load_error</th>\n",
       "      <th>past_da_price_error</th>\n",
       "    </tr>\n",
       "  </thead>\n",
       "  <tbody>\n",
       "    <tr>\n",
       "      <th>count</th>\n",
       "      <td>5.209300e+04</td>\n",
       "      <td>52093.000000</td>\n",
       "      <td>52093.000000</td>\n",
       "      <td>5.209300e+04</td>\n",
       "      <td>5.209300e+04</td>\n",
       "      <td>5.209300e+04</td>\n",
       "      <td>5.209300e+04</td>\n",
       "      <td>5.209300e+04</td>\n",
       "      <td>5.209300e+04</td>\n",
       "      <td>5.209300e+04</td>\n",
       "    </tr>\n",
       "    <tr>\n",
       "      <th>mean</th>\n",
       "      <td>-3.491812e-17</td>\n",
       "      <td>0.500070</td>\n",
       "      <td>0.504810</td>\n",
       "      <td>6.547147e-18</td>\n",
       "      <td>-3.055335e-17</td>\n",
       "      <td>-3.273573e-17</td>\n",
       "      <td>8.456731e-18</td>\n",
       "      <td>6.939976e-16</td>\n",
       "      <td>1.296335e-15</td>\n",
       "      <td>4.015583e-16</td>\n",
       "    </tr>\n",
       "    <tr>\n",
       "      <th>std</th>\n",
       "      <td>1.000010e+00</td>\n",
       "      <td>0.300953</td>\n",
       "      <td>0.313700</td>\n",
       "      <td>1.000010e+00</td>\n",
       "      <td>1.000010e+00</td>\n",
       "      <td>1.000010e+00</td>\n",
       "      <td>1.000010e+00</td>\n",
       "      <td>1.000010e+00</td>\n",
       "      <td>1.000010e+00</td>\n",
       "      <td>1.000010e+00</td>\n",
       "    </tr>\n",
       "    <tr>\n",
       "      <th>min</th>\n",
       "      <td>-1.772572e+00</td>\n",
       "      <td>0.000000</td>\n",
       "      <td>0.000000</td>\n",
       "      <td>-1.263632e+00</td>\n",
       "      <td>-6.262382e-01</td>\n",
       "      <td>-8.729893e-01</td>\n",
       "      <td>-1.940532e-01</td>\n",
       "      <td>-4.338010e+00</td>\n",
       "      <td>-3.619345e+00</td>\n",
       "      <td>-2.429918e+00</td>\n",
       "    </tr>\n",
       "    <tr>\n",
       "      <th>25%</th>\n",
       "      <td>-7.783227e-01</td>\n",
       "      <td>0.260870</td>\n",
       "      <td>0.272727</td>\n",
       "      <td>-1.263632e+00</td>\n",
       "      <td>-6.262382e-01</td>\n",
       "      <td>-8.729893e-01</td>\n",
       "      <td>-1.940532e-01</td>\n",
       "      <td>-7.479819e-01</td>\n",
       "      <td>-6.961442e-01</td>\n",
       "      <td>-7.204153e-01</td>\n",
       "    </tr>\n",
       "    <tr>\n",
       "      <th>50%</th>\n",
       "      <td>-1.728319e-01</td>\n",
       "      <td>0.521739</td>\n",
       "      <td>0.545455</td>\n",
       "      <td>3.149786e-01</td>\n",
       "      <td>-6.262382e-01</td>\n",
       "      <td>-1.215122e-02</td>\n",
       "      <td>-1.940532e-01</td>\n",
       "      <td>-2.265576e-01</td>\n",
       "      <td>-6.665341e-02</td>\n",
       "      <td>-1.350323e-01</td>\n",
       "    </tr>\n",
       "    <tr>\n",
       "      <th>75%</th>\n",
       "      <td>6.248516e-01</td>\n",
       "      <td>0.782609</td>\n",
       "      <td>0.818182</td>\n",
       "      <td>9.244629e-01</td>\n",
       "      <td>7.564675e-01</td>\n",
       "      <td>4.914068e-01</td>\n",
       "      <td>-1.940532e-01</td>\n",
       "      <td>5.604983e-01</td>\n",
       "      <td>6.531746e-01</td>\n",
       "      <td>6.043549e-01</td>\n",
       "    </tr>\n",
       "    <tr>\n",
       "      <th>max</th>\n",
       "      <td>6.114215e+00</td>\n",
       "      <td>1.000000</td>\n",
       "      <td>1.000000</td>\n",
       "      <td>1.677034e+00</td>\n",
       "      <td>2.894825e+00</td>\n",
       "      <td>3.124619e+00</td>\n",
       "      <td>1.592994e+01</td>\n",
       "      <td>7.651449e+00</td>\n",
       "      <td>3.139021e+00</td>\n",
       "      <td>5.025673e+00</td>\n",
       "    </tr>\n",
       "  </tbody>\n",
       "</table>\n",
       "</div>"
      ],
      "text/plain": [
       "         wind_speed          hour         month           hdd           cdd  \\\n",
       "count  5.209300e+04  52093.000000  52093.000000  5.209300e+04  5.209300e+04   \n",
       "mean  -3.491812e-17      0.500070      0.504810  6.547147e-18 -3.055335e-17   \n",
       "std    1.000010e+00      0.300953      0.313700  1.000010e+00  1.000010e+00   \n",
       "min   -1.772572e+00      0.000000      0.000000 -1.263632e+00 -6.262382e-01   \n",
       "25%   -7.783227e-01      0.260870      0.272727 -1.263632e+00 -6.262382e-01   \n",
       "50%   -1.728319e-01      0.521739      0.545455  3.149786e-01 -6.262382e-01   \n",
       "75%    6.248516e-01      0.782609      0.818182  9.244629e-01  7.564675e-01   \n",
       "max    6.114215e+00      1.000000      1.000000  1.677034e+00  2.894825e+00   \n",
       "\n",
       "       past_spikes_30  precipitation  load_capacity_ratio  past_da_load_error  \\\n",
       "count    5.209300e+04   5.209300e+04         5.209300e+04        5.209300e+04   \n",
       "mean    -3.273573e-17   8.456731e-18         6.939976e-16        1.296335e-15   \n",
       "std      1.000010e+00   1.000010e+00         1.000010e+00        1.000010e+00   \n",
       "min     -8.729893e-01  -1.940532e-01        -4.338010e+00       -3.619345e+00   \n",
       "25%     -8.729893e-01  -1.940532e-01        -7.479819e-01       -6.961442e-01   \n",
       "50%     -1.215122e-02  -1.940532e-01        -2.265576e-01       -6.665341e-02   \n",
       "75%      4.914068e-01  -1.940532e-01         5.604983e-01        6.531746e-01   \n",
       "max      3.124619e+00   1.592994e+01         7.651449e+00        3.139021e+00   \n",
       "\n",
       "       past_da_price_error  \n",
       "count         5.209300e+04  \n",
       "mean          4.015583e-16  \n",
       "std           1.000010e+00  \n",
       "min          -2.429918e+00  \n",
       "25%          -7.204153e-01  \n",
       "50%          -1.350323e-01  \n",
       "75%           6.043549e-01  \n",
       "max           5.025673e+00  "
      ]
     },
     "execution_count": 35,
     "metadata": {},
     "output_type": "execute_result"
    }
   ],
   "source": [
    "transformed_df.describe()"
   ]
  },
  {
   "cell_type": "code",
   "execution_count": 38,
   "metadata": {},
   "outputs": [
    {
     "data": {
      "image/png": "[encoded data removed]",
      "text/plain": [
       "<Figure size 640x480 with 1 Axes>"
      ]
     },
     "metadata": {},
     "output_type": "display_data"
    },
    {
     "data": {
      "image/png": "[encoded data removed]",
      "text/plain": [
       "<Figure size 640x480 with 1 Axes>"
      ]
     },
     "metadata": {},
     "output_type": "display_data"
    },
    {
     "data": {
      "image/png": "[encoded data removed]",
      "text/plain": [
       "<Figure size 640x480 with 1 Axes>"
      ]
     },
     "metadata": {},
     "output_type": "display_data"
    },
    {
     "data": {
      "image/png": "[encoded data removed]",
      "text/plain": [
       "<Figure size 640x480 with 1 Axes>"
      ]
     },
     "metadata": {},
     "output_type": "display_data"
    },
    {
     "data": {
      "image/png": "[encoded data removed]",
      "text/plain": [
       "<Figure size 640x480 with 1 Axes>"
      ]
     },
     "metadata": {},
     "output_type": "display_data"
    },
    {
     "data": {
      "image/png": "[encoded data removed]",
      "text/plain": [
       "<Figure size 640x480 with 1 Axes>"
      ]
     },
     "metadata": {},
     "output_type": "display_data"
    },
    {
     "data": {
      "image/png": "[encoded data removed]",
      "text/plain": [
       "<Figure size 640x480 with 1 Axes>"
      ]
     },
     "metadata": {},
     "output_type": "display_data"
    },
    {
     "data": {
      "image/png": "[encoded data removed]",
      "text/plain": [
       "<Figure size 640x480 with 1 Axes>"
      ]
     },
     "metadata": {},
     "output_type": "display_data"
    },
    {
     "data": {
      "image/png": "[encoded data removed]",
      "text/plain": [
       "<Figure size 640x480 with 1 Axes>"
      ]
     },
     "metadata": {},
     "output_type": "display_data"
    },
    {
     "data": {
      "image/png": "[encoded data removed]",
      "text/plain": [
       "<Figure size 640x480 with 1 Axes>"
      ]
     },
     "metadata": {},
     "output_type": "display_data"
    }
   ],
   "source": [
    "for col in transformed_df.columns:\n",
    "    plt.hist(transformed_df[col], bins= 50)\n",
    "    plt.title(col)\n",
    "    plt.show()"
   ]
  },
  {
   "cell_type": "code",
   "execution_count": 37,
   "metadata": {},
   "outputs": [
    {
     "ename": "KeyError",
     "evalue": "'da_prices'",
     "output_type": "error",
     "traceback": [
      "\u001b[1;31m---------------------------------------------------------------------------\u001b[0m",
      "\u001b[1;31mKeyError\u001b[0m                                  Traceback (most recent call last)",
      "File \u001b[1;32mc:\\Users\\alebr\\AppData\\Local\\Programs\\Python\\Python312\\Lib\\site-packages\\pandas\\core\\indexes\\base.py:3805\u001b[0m, in \u001b[0;36mIndex.get_loc\u001b[1;34m(self, key)\u001b[0m\n\u001b[0;32m   3804\u001b[0m \u001b[38;5;28;01mtry\u001b[39;00m:\n\u001b[1;32m-> 3805\u001b[0m     \u001b[38;5;28;01mreturn\u001b[39;00m \u001b[38;5;28;43mself\u001b[39;49m\u001b[38;5;241;43m.\u001b[39;49m\u001b[43m_engine\u001b[49m\u001b[38;5;241;43m.\u001b[39;49m\u001b[43mget_loc\u001b[49m\u001b[43m(\u001b[49m\u001b[43mcasted_key\u001b[49m\u001b[43m)\u001b[49m\n\u001b[0;32m   3806\u001b[0m \u001b[38;5;28;01mexcept\u001b[39;00m \u001b[38;5;167;01mKeyError\u001b[39;00m \u001b[38;5;28;01mas\u001b[39;00m err:\n",
      "File \u001b[1;32mindex.pyx:167\u001b[0m, in \u001b[0;36mpandas._libs.index.IndexEngine.get_loc\u001b[1;34m()\u001b[0m\n",
      "File \u001b[1;32mindex.pyx:196\u001b[0m, in \u001b[0;36mpandas._libs.index.IndexEngine.get_loc\u001b[1;34m()\u001b[0m\n",
      "File \u001b[1;32mpandas\\\\_libs\\\\hashtable_class_helper.pxi:7081\u001b[0m, in \u001b[0;36mpandas._libs.hashtable.PyObjectHashTable.get_item\u001b[1;34m()\u001b[0m\n",
      "File \u001b[1;32mpandas\\\\_libs\\\\hashtable_class_helper.pxi:7089\u001b[0m, in \u001b[0;36mpandas._libs.hashtable.PyObjectHashTable.get_item\u001b[1;34m()\u001b[0m\n",
      "\u001b[1;31mKeyError\u001b[0m: 'da_prices'",
      "\nThe above exception was the direct cause of the following exception:\n",
      "\u001b[1;31mKeyError\u001b[0m                                  Traceback (most recent call last)",
      "Cell \u001b[1;32mIn[37], line 2\u001b[0m\n\u001b[0;32m      1\u001b[0m idx \u001b[38;5;241m=\u001b[39m df[\u001b[38;5;124m'\u001b[39m\u001b[38;5;124mload_capacity_ratio\u001b[39m\u001b[38;5;124m'\u001b[39m]\u001b[38;5;241m.\u001b[39margmax()\n\u001b[1;32m----> 2\u001b[0m \u001b[38;5;28mprint\u001b[39m(\u001b[43mdf\u001b[49m\u001b[43m[\u001b[49m\u001b[38;5;124;43m'\u001b[39;49m\u001b[38;5;124;43mda_prices\u001b[39;49m\u001b[38;5;124;43m'\u001b[39;49m\u001b[43m]\u001b[49m\u001b[38;5;241m.\u001b[39mshift(\u001b[38;5;241m24\u001b[39m)\u001b[38;5;241m.\u001b[39miloc[idx])\n\u001b[0;32m      3\u001b[0m \u001b[38;5;28mprint\u001b[39m(df[\u001b[38;5;124m'\u001b[39m\u001b[38;5;124mda_prices\u001b[39m\u001b[38;5;124m'\u001b[39m]\u001b[38;5;241m.\u001b[39miloc[idx\u001b[38;5;241m-\u001b[39m\u001b[38;5;241m24\u001b[39m])\n",
      "File \u001b[1;32mc:\\Users\\alebr\\AppData\\Local\\Programs\\Python\\Python312\\Lib\\site-packages\\pandas\\core\\frame.py:4102\u001b[0m, in \u001b[0;36mDataFrame.__getitem__\u001b[1;34m(self, key)\u001b[0m\n\u001b[0;32m   4100\u001b[0m \u001b[38;5;28;01mif\u001b[39;00m \u001b[38;5;28mself\u001b[39m\u001b[38;5;241m.\u001b[39mcolumns\u001b[38;5;241m.\u001b[39mnlevels \u001b[38;5;241m>\u001b[39m \u001b[38;5;241m1\u001b[39m:\n\u001b[0;32m   4101\u001b[0m     \u001b[38;5;28;01mreturn\u001b[39;00m \u001b[38;5;28mself\u001b[39m\u001b[38;5;241m.\u001b[39m_getitem_multilevel(key)\n\u001b[1;32m-> 4102\u001b[0m indexer \u001b[38;5;241m=\u001b[39m \u001b[38;5;28;43mself\u001b[39;49m\u001b[38;5;241;43m.\u001b[39;49m\u001b[43mcolumns\u001b[49m\u001b[38;5;241;43m.\u001b[39;49m\u001b[43mget_loc\u001b[49m\u001b[43m(\u001b[49m\u001b[43mkey\u001b[49m\u001b[43m)\u001b[49m\n\u001b[0;32m   4103\u001b[0m \u001b[38;5;28;01mif\u001b[39;00m is_integer(indexer):\n\u001b[0;32m   4104\u001b[0m     indexer \u001b[38;5;241m=\u001b[39m [indexer]\n",
      "File \u001b[1;32mc:\\Users\\alebr\\AppData\\Local\\Programs\\Python\\Python312\\Lib\\site-packages\\pandas\\core\\indexes\\base.py:3812\u001b[0m, in \u001b[0;36mIndex.get_loc\u001b[1;34m(self, key)\u001b[0m\n\u001b[0;32m   3807\u001b[0m     \u001b[38;5;28;01mif\u001b[39;00m \u001b[38;5;28misinstance\u001b[39m(casted_key, \u001b[38;5;28mslice\u001b[39m) \u001b[38;5;129;01mor\u001b[39;00m (\n\u001b[0;32m   3808\u001b[0m         \u001b[38;5;28misinstance\u001b[39m(casted_key, abc\u001b[38;5;241m.\u001b[39mIterable)\n\u001b[0;32m   3809\u001b[0m         \u001b[38;5;129;01mand\u001b[39;00m \u001b[38;5;28many\u001b[39m(\u001b[38;5;28misinstance\u001b[39m(x, \u001b[38;5;28mslice\u001b[39m) \u001b[38;5;28;01mfor\u001b[39;00m x \u001b[38;5;129;01min\u001b[39;00m casted_key)\n\u001b[0;32m   3810\u001b[0m     ):\n\u001b[0;32m   3811\u001b[0m         \u001b[38;5;28;01mraise\u001b[39;00m InvalidIndexError(key)\n\u001b[1;32m-> 3812\u001b[0m     \u001b[38;5;28;01mraise\u001b[39;00m \u001b[38;5;167;01mKeyError\u001b[39;00m(key) \u001b[38;5;28;01mfrom\u001b[39;00m \u001b[38;5;21;01merr\u001b[39;00m\n\u001b[0;32m   3813\u001b[0m \u001b[38;5;28;01mexcept\u001b[39;00m \u001b[38;5;167;01mTypeError\u001b[39;00m:\n\u001b[0;32m   3814\u001b[0m     \u001b[38;5;66;03m# If we have a listlike key, _check_indexing_error will raise\u001b[39;00m\n\u001b[0;32m   3815\u001b[0m     \u001b[38;5;66;03m#  InvalidIndexError. Otherwise we fall through and re-raise\u001b[39;00m\n\u001b[0;32m   3816\u001b[0m     \u001b[38;5;66;03m#  the TypeError.\u001b[39;00m\n\u001b[0;32m   3817\u001b[0m     \u001b[38;5;28mself\u001b[39m\u001b[38;5;241m.\u001b[39m_check_indexing_error(key)\n",
      "\u001b[1;31mKeyError\u001b[0m: 'da_prices'"
     ]
    }
   ],
   "source": [
    "idx = df['load_capacity_ratio'].argmax()\n",
    "print(df['da_prices'].shift(24).iloc[idx])\n",
    "print(df['da_prices'].iloc[idx-24])"
   ]
  },
  {
   "cell_type": "code",
   "execution_count": null,
   "metadata": {},
   "outputs": [
    {
     "name": "stdout",
     "output_type": "stream",
     "text": [
      "2019-12-11 13:00:00 35.5\n",
      "2019-12-12 13:00:00 30.2675\n"
     ]
    }
   ],
   "source": [
    "idx = df['load_capacity_ratio'].argmax()\n",
    "pd.set_option('display.float_format', '{:.5f}'.format)\n",
    "print(df.index[idx-24], df['da_prices'].shift(24).iloc[idx])\n",
    "print(df.index[idx], df['rt_prices'].iloc[idx])"
   ]
  },
  {
   "cell_type": "code",
   "execution_count": null,
   "metadata": {},
   "outputs": [],
   "source": []
  },
  {
   "cell_type": "markdown",
   "metadata": {},
   "source": []
  }
 ],
 "metadata": {
  "kernelspec": {
   "display_name": "Python 3",
   "language": "python",
   "name": "python3"
  },
  "language_info": {
   "codemirror_mode": {
    "name": "ipython",
    "version": 3
   },
   "file_extension": ".py",
   "mimetype": "text/x-python",
   "name": "python",
   "nbconvert_exporter": "python",
   "pygments_lexer": "ipython3",
   "version": "3.12.6"
  }
 },
 "nbformat": 4,
 "nbformat_minor": 2
}
